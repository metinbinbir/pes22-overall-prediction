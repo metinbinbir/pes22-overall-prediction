{
 "cells": [
  {
   "cell_type": "code",
   "execution_count": 427,
   "metadata": {},
   "outputs": [
    {
     "ename": "ModuleNotFoundError",
     "evalue": "No module named 'tensorflow'",
     "output_type": "error",
     "traceback": [
      "\u001b[1;31m---------------------------------------------------------------------------\u001b[0m",
      "\u001b[1;31mModuleNotFoundError\u001b[0m                       Traceback (most recent call last)",
      "\u001b[1;32mc:\\Users\\binbi\\PycharmProjects\\sahibinden\\pes_22.ipynb Cell 1'\u001b[0m in \u001b[0;36m<cell line: 13>\u001b[1;34m()\u001b[0m\n\u001b[0;32m     <a href='vscode-notebook-cell:/c%3A/Users/binbi/PycharmProjects/sahibinden/pes_22.ipynb#ch0000090?line=10'>11</a>\u001b[0m \u001b[39mimport\u001b[39;00m \u001b[39mnumpy\u001b[39;00m \u001b[39mas\u001b[39;00m \u001b[39mnp\u001b[39;00m\n\u001b[0;32m     <a href='vscode-notebook-cell:/c%3A/Users/binbi/PycharmProjects/sahibinden/pes_22.ipynb#ch0000090?line=11'>12</a>\u001b[0m \u001b[39mimport\u001b[39;00m \u001b[39mmatplotlib\u001b[39;00m\u001b[39m.\u001b[39;00m\u001b[39mpyplot\u001b[39;00m \u001b[39mas\u001b[39;00m \u001b[39mplt\u001b[39;00m\n\u001b[1;32m---> <a href='vscode-notebook-cell:/c%3A/Users/binbi/PycharmProjects/sahibinden/pes_22.ipynb#ch0000090?line=12'>13</a>\u001b[0m \u001b[39mimport\u001b[39;00m \u001b[39mtensorflow\u001b[39;00m \u001b[39mas\u001b[39;00m \u001b[39mtf\u001b[39;00m\n",
      "\u001b[1;31mModuleNotFoundError\u001b[0m: No module named 'tensorflow'"
     ]
    }
   ],
   "source": [
    "from sklearn.tree import DecisionTreeRegressor\n",
    "from sklearn.linear_model import LinearRegression\n",
    "from sklearn.svm import SVR\n",
    "from sklearn.ensemble import RandomForestRegressor\n",
    "from sklearn.model_selection import train_test_split\n",
    "from sklearn.metrics import mean_absolute_error\n",
    "from sklearn.metrics import r2_score\n",
    "from sklearn.linear_model import Lasso\n",
    "from sklearn import metrics\n",
    "import pandas as pd\n",
    "import numpy as np\n",
    "import matplotlib.pyplot as plt\n",
    "import tensorflow as tf\n",
    "from keras.layers import Dense, Activation\n",
    "from keras.models import Sequential"
   ]
  },
  {
   "cell_type": "code",
   "execution_count": 410,
   "metadata": {},
   "outputs": [],
   "source": [
    "df = pd.read_csv(\"data.csv\",encoding=\"utf-8\")"
   ]
  },
  {
   "cell_type": "code",
   "execution_count": 411,
   "metadata": {},
   "outputs": [
    {
     "data": {
      "text/html": [
       "<div>\n",
       "<style scoped>\n",
       "    .dataframe tbody tr th:only-of-type {\n",
       "        vertical-align: middle;\n",
       "    }\n",
       "\n",
       "    .dataframe tbody tr th {\n",
       "        vertical-align: top;\n",
       "    }\n",
       "\n",
       "    .dataframe thead th {\n",
       "        text-align: right;\n",
       "    }\n",
       "</style>\n",
       "<table border=\"1\" class=\"dataframe\">\n",
       "  <thead>\n",
       "    <tr style=\"text-align: right;\">\n",
       "      <th></th>\n",
       "      <th>Position</th>\n",
       "      <th>Height</th>\n",
       "      <th>Weight</th>\n",
       "      <th>Age</th>\n",
       "      <th>Preferred Foot</th>\n",
       "      <th>Avg Ball</th>\n",
       "      <th>Avg Pass</th>\n",
       "      <th>Finishing</th>\n",
       "      <th>Speed</th>\n",
       "      <th>Kicking Power</th>\n",
       "      <th>Stamina</th>\n",
       "      <th>Avg Def</th>\n",
       "      <th>Weak Foot</th>\n",
       "      <th>Overall</th>\n",
       "    </tr>\n",
       "  </thead>\n",
       "  <tbody>\n",
       "    <tr>\n",
       "      <th>0</th>\n",
       "      <td>CF</td>\n",
       "      <td>185</td>\n",
       "      <td>81</td>\n",
       "      <td>33</td>\n",
       "      <td>Right</td>\n",
       "      <td>77.0</td>\n",
       "      <td>66.0</td>\n",
       "      <td>86</td>\n",
       "      <td>74</td>\n",
       "      <td>79</td>\n",
       "      <td>71</td>\n",
       "      <td>53.666667</td>\n",
       "      <td>High</td>\n",
       "      <td>88</td>\n",
       "    </tr>\n",
       "    <tr>\n",
       "      <th>1</th>\n",
       "      <td>RWF</td>\n",
       "      <td>175</td>\n",
       "      <td>71</td>\n",
       "      <td>29</td>\n",
       "      <td>Left</td>\n",
       "      <td>80.5</td>\n",
       "      <td>70.0</td>\n",
       "      <td>82</td>\n",
       "      <td>84</td>\n",
       "      <td>70</td>\n",
       "      <td>78</td>\n",
       "      <td>50.666667</td>\n",
       "      <td>Medium</td>\n",
       "      <td>88</td>\n",
       "    </tr>\n",
       "    <tr>\n",
       "      <th>2</th>\n",
       "      <td>RWF</td>\n",
       "      <td>170</td>\n",
       "      <td>72</td>\n",
       "      <td>34</td>\n",
       "      <td>Left</td>\n",
       "      <td>85.5</td>\n",
       "      <td>80.5</td>\n",
       "      <td>85</td>\n",
       "      <td>68</td>\n",
       "      <td>72</td>\n",
       "      <td>66</td>\n",
       "      <td>50.000000</td>\n",
       "      <td>High</td>\n",
       "      <td>87</td>\n",
       "    </tr>\n",
       "    <tr>\n",
       "      <th>3</th>\n",
       "      <td>CF</td>\n",
       "      <td>178</td>\n",
       "      <td>73</td>\n",
       "      <td>23</td>\n",
       "      <td>Right</td>\n",
       "      <td>81.5</td>\n",
       "      <td>69.5</td>\n",
       "      <td>80</td>\n",
       "      <td>84</td>\n",
       "      <td>72</td>\n",
       "      <td>75</td>\n",
       "      <td>53.333333</td>\n",
       "      <td>High</td>\n",
       "      <td>87</td>\n",
       "    </tr>\n",
       "    <tr>\n",
       "      <th>4</th>\n",
       "      <td>CF</td>\n",
       "      <td>187</td>\n",
       "      <td>84</td>\n",
       "      <td>36</td>\n",
       "      <td>Right</td>\n",
       "      <td>77.0</td>\n",
       "      <td>68.0</td>\n",
       "      <td>80</td>\n",
       "      <td>74</td>\n",
       "      <td>82</td>\n",
       "      <td>66</td>\n",
       "      <td>43.333333</td>\n",
       "      <td>Very</td>\n",
       "      <td>86</td>\n",
       "    </tr>\n",
       "  </tbody>\n",
       "</table>\n",
       "</div>"
      ],
      "text/plain": [
       "  Position  Height  Weight  Age Preferred Foot  Avg Ball  Avg Pass  Finishing  \\\n",
       "0       CF     185      81   33          Right      77.0      66.0         86   \n",
       "1      RWF     175      71   29           Left      80.5      70.0         82   \n",
       "2      RWF     170      72   34           Left      85.5      80.5         85   \n",
       "3       CF     178      73   23          Right      81.5      69.5         80   \n",
       "4       CF     187      84   36          Right      77.0      68.0         80   \n",
       "\n",
       "   Speed  Kicking Power  Stamina    Avg Def Weak Foot  Overall  \n",
       "0     74             79       71  53.666667      High       88  \n",
       "1     84             70       78  50.666667    Medium       88  \n",
       "2     68             72       66  50.000000      High       87  \n",
       "3     84             72       75  53.333333      High       87  \n",
       "4     74             82       66  43.333333      Very       86  "
      ]
     },
     "execution_count": 411,
     "metadata": {},
     "output_type": "execute_result"
    }
   ],
   "source": [
    "df.head()"
   ]
  },
  {
   "cell_type": "code",
   "execution_count": 412,
   "metadata": {},
   "outputs": [],
   "source": [
    "df[\"Position\"] = df[\"Position\"].replace(['CF'],\"ST\")\n",
    "df[\"Position\"] = df[\"Position\"].replace(['SS'],\"ST\")\n",
    "\n",
    "df[\"Position\"] = df[\"Position\"].replace(['CMF'],\"CM\")\n",
    "df[\"Position\"] = df[\"Position\"].replace(['RMF'],\"CM\")\n",
    "df[\"Position\"] = df[\"Position\"].replace(['LMF'],\"CM\")\n",
    "\n",
    "df[\"Position\"] = df[\"Position\"].replace(['LB'],\"LB-RB\")\n",
    "df[\"Position\"] = df[\"Position\"].replace(['RB'],\"LB-RB\")\n",
    "\n",
    "df[\"Position\"] = df[\"Position\"].replace(['LWF'],\"LWF-RWF\")\n",
    "df[\"Position\"] = df[\"Position\"].replace(['RWF'],\"LWF-RWF\")\n",
    "\n",
    "df[\"Position\"] = le.fit_transform(df[\"Position\"])\n"
   ]
  },
  {
   "cell_type": "code",
   "execution_count": 413,
   "metadata": {},
   "outputs": [],
   "source": [
    "df[\"Preferred Foot\"] = le.fit_transform(df[\"Preferred Foot\"])\n",
    "df[\"Weak Foot\"] = le.fit_transform(df[\"Weak Foot\"])"
   ]
  },
  {
   "cell_type": "code",
   "execution_count": 414,
   "metadata": {},
   "outputs": [
    {
     "data": {
      "text/html": [
       "<div>\n",
       "<style scoped>\n",
       "    .dataframe tbody tr th:only-of-type {\n",
       "        vertical-align: middle;\n",
       "    }\n",
       "\n",
       "    .dataframe tbody tr th {\n",
       "        vertical-align: top;\n",
       "    }\n",
       "\n",
       "    .dataframe thead th {\n",
       "        text-align: right;\n",
       "    }\n",
       "</style>\n",
       "<table border=\"1\" class=\"dataframe\">\n",
       "  <thead>\n",
       "    <tr style=\"text-align: right;\">\n",
       "      <th></th>\n",
       "      <th>Position</th>\n",
       "      <th>Height</th>\n",
       "      <th>Weight</th>\n",
       "      <th>Age</th>\n",
       "      <th>Preferred Foot</th>\n",
       "      <th>Avg Ball</th>\n",
       "      <th>Avg Pass</th>\n",
       "      <th>Finishing</th>\n",
       "      <th>Speed</th>\n",
       "      <th>Kicking Power</th>\n",
       "      <th>Stamina</th>\n",
       "      <th>Avg Def</th>\n",
       "      <th>Weak Foot</th>\n",
       "      <th>Overall</th>\n",
       "    </tr>\n",
       "  </thead>\n",
       "  <tbody>\n",
       "    <tr>\n",
       "      <th>0</th>\n",
       "      <td>7</td>\n",
       "      <td>185</td>\n",
       "      <td>81</td>\n",
       "      <td>33</td>\n",
       "      <td>1</td>\n",
       "      <td>77.0</td>\n",
       "      <td>66.0</td>\n",
       "      <td>86</td>\n",
       "      <td>74</td>\n",
       "      <td>79</td>\n",
       "      <td>71</td>\n",
       "      <td>53.666667</td>\n",
       "      <td>0</td>\n",
       "      <td>88</td>\n",
       "    </tr>\n",
       "    <tr>\n",
       "      <th>1</th>\n",
       "      <td>6</td>\n",
       "      <td>175</td>\n",
       "      <td>71</td>\n",
       "      <td>29</td>\n",
       "      <td>0</td>\n",
       "      <td>80.5</td>\n",
       "      <td>70.0</td>\n",
       "      <td>82</td>\n",
       "      <td>84</td>\n",
       "      <td>70</td>\n",
       "      <td>78</td>\n",
       "      <td>50.666667</td>\n",
       "      <td>1</td>\n",
       "      <td>88</td>\n",
       "    </tr>\n",
       "    <tr>\n",
       "      <th>2</th>\n",
       "      <td>6</td>\n",
       "      <td>170</td>\n",
       "      <td>72</td>\n",
       "      <td>34</td>\n",
       "      <td>0</td>\n",
       "      <td>85.5</td>\n",
       "      <td>80.5</td>\n",
       "      <td>85</td>\n",
       "      <td>68</td>\n",
       "      <td>72</td>\n",
       "      <td>66</td>\n",
       "      <td>50.000000</td>\n",
       "      <td>0</td>\n",
       "      <td>87</td>\n",
       "    </tr>\n",
       "    <tr>\n",
       "      <th>3</th>\n",
       "      <td>7</td>\n",
       "      <td>178</td>\n",
       "      <td>73</td>\n",
       "      <td>23</td>\n",
       "      <td>1</td>\n",
       "      <td>81.5</td>\n",
       "      <td>69.5</td>\n",
       "      <td>80</td>\n",
       "      <td>84</td>\n",
       "      <td>72</td>\n",
       "      <td>75</td>\n",
       "      <td>53.333333</td>\n",
       "      <td>0</td>\n",
       "      <td>87</td>\n",
       "    </tr>\n",
       "    <tr>\n",
       "      <th>4</th>\n",
       "      <td>7</td>\n",
       "      <td>187</td>\n",
       "      <td>84</td>\n",
       "      <td>36</td>\n",
       "      <td>1</td>\n",
       "      <td>77.0</td>\n",
       "      <td>68.0</td>\n",
       "      <td>80</td>\n",
       "      <td>74</td>\n",
       "      <td>82</td>\n",
       "      <td>66</td>\n",
       "      <td>43.333333</td>\n",
       "      <td>3</td>\n",
       "      <td>86</td>\n",
       "    </tr>\n",
       "  </tbody>\n",
       "</table>\n",
       "</div>"
      ],
      "text/plain": [
       "   Position  Height  Weight  Age  Preferred Foot  Avg Ball  Avg Pass  \\\n",
       "0         7     185      81   33               1      77.0      66.0   \n",
       "1         6     175      71   29               0      80.5      70.0   \n",
       "2         6     170      72   34               0      85.5      80.5   \n",
       "3         7     178      73   23               1      81.5      69.5   \n",
       "4         7     187      84   36               1      77.0      68.0   \n",
       "\n",
       "   Finishing  Speed  Kicking Power  Stamina    Avg Def  Weak Foot  Overall  \n",
       "0         86     74             79       71  53.666667          0       88  \n",
       "1         82     84             70       78  50.666667          1       88  \n",
       "2         85     68             72       66  50.000000          0       87  \n",
       "3         80     84             72       75  53.333333          0       87  \n",
       "4         80     74             82       66  43.333333          3       86  "
      ]
     },
     "execution_count": 414,
     "metadata": {},
     "output_type": "execute_result"
    }
   ],
   "source": [
    "df.head()"
   ]
  },
  {
   "cell_type": "code",
   "execution_count": 415,
   "metadata": {},
   "outputs": [],
   "source": [
    "x = df.iloc[:,:-1].values\n",
    "y = df.iloc[:,13].values"
   ]
  },
  {
   "cell_type": "code",
   "execution_count": 416,
   "metadata": {},
   "outputs": [],
   "source": [
    "x_train, x_test , y_train , y_test = train_test_split(x, y, test_size=0.2, random_state=2)"
   ]
  },
  {
   "cell_type": "code",
   "execution_count": 406,
   "metadata": {},
   "outputs": [
    {
     "data": {
      "text/html": [
       "<style>#sk-container-id-3 {color: black;background-color: white;}#sk-container-id-3 pre{padding: 0;}#sk-container-id-3 div.sk-toggleable {background-color: white;}#sk-container-id-3 label.sk-toggleable__label {cursor: pointer;display: block;width: 100%;margin-bottom: 0;padding: 0.3em;box-sizing: border-box;text-align: center;}#sk-container-id-3 label.sk-toggleable__label-arrow:before {content: \"▸\";float: left;margin-right: 0.25em;color: #696969;}#sk-container-id-3 label.sk-toggleable__label-arrow:hover:before {color: black;}#sk-container-id-3 div.sk-estimator:hover label.sk-toggleable__label-arrow:before {color: black;}#sk-container-id-3 div.sk-toggleable__content {max-height: 0;max-width: 0;overflow: hidden;text-align: left;background-color: #f0f8ff;}#sk-container-id-3 div.sk-toggleable__content pre {margin: 0.2em;color: black;border-radius: 0.25em;background-color: #f0f8ff;}#sk-container-id-3 input.sk-toggleable__control:checked~div.sk-toggleable__content {max-height: 200px;max-width: 100%;overflow: auto;}#sk-container-id-3 input.sk-toggleable__control:checked~label.sk-toggleable__label-arrow:before {content: \"▾\";}#sk-container-id-3 div.sk-estimator input.sk-toggleable__control:checked~label.sk-toggleable__label {background-color: #d4ebff;}#sk-container-id-3 div.sk-label input.sk-toggleable__control:checked~label.sk-toggleable__label {background-color: #d4ebff;}#sk-container-id-3 input.sk-hidden--visually {border: 0;clip: rect(1px 1px 1px 1px);clip: rect(1px, 1px, 1px, 1px);height: 1px;margin: -1px;overflow: hidden;padding: 0;position: absolute;width: 1px;}#sk-container-id-3 div.sk-estimator {font-family: monospace;background-color: #f0f8ff;border: 1px dotted black;border-radius: 0.25em;box-sizing: border-box;margin-bottom: 0.5em;}#sk-container-id-3 div.sk-estimator:hover {background-color: #d4ebff;}#sk-container-id-3 div.sk-parallel-item::after {content: \"\";width: 100%;border-bottom: 1px solid gray;flex-grow: 1;}#sk-container-id-3 div.sk-label:hover label.sk-toggleable__label {background-color: #d4ebff;}#sk-container-id-3 div.sk-serial::before {content: \"\";position: absolute;border-left: 1px solid gray;box-sizing: border-box;top: 0;bottom: 0;left: 50%;z-index: 0;}#sk-container-id-3 div.sk-serial {display: flex;flex-direction: column;align-items: center;background-color: white;padding-right: 0.2em;padding-left: 0.2em;position: relative;}#sk-container-id-3 div.sk-item {position: relative;z-index: 1;}#sk-container-id-3 div.sk-parallel {display: flex;align-items: stretch;justify-content: center;background-color: white;position: relative;}#sk-container-id-3 div.sk-item::before, #sk-container-id-3 div.sk-parallel-item::before {content: \"\";position: absolute;border-left: 1px solid gray;box-sizing: border-box;top: 0;bottom: 0;left: 50%;z-index: -1;}#sk-container-id-3 div.sk-parallel-item {display: flex;flex-direction: column;z-index: 1;position: relative;background-color: white;}#sk-container-id-3 div.sk-parallel-item:first-child::after {align-self: flex-end;width: 50%;}#sk-container-id-3 div.sk-parallel-item:last-child::after {align-self: flex-start;width: 50%;}#sk-container-id-3 div.sk-parallel-item:only-child::after {width: 0;}#sk-container-id-3 div.sk-dashed-wrapped {border: 1px dashed gray;margin: 0 0.4em 0.5em 0.4em;box-sizing: border-box;padding-bottom: 0.4em;background-color: white;}#sk-container-id-3 div.sk-label label {font-family: monospace;font-weight: bold;display: inline-block;line-height: 1.2em;}#sk-container-id-3 div.sk-label-container {text-align: center;}#sk-container-id-3 div.sk-container {/* jupyter's `normalize.less` sets `[hidden] { display: none; }` but bootstrap.min.css set `[hidden] { display: none !important; }` so we also need the `!important` here to be able to override the default hidden behavior on the sphinx rendered scikit-learn.org. See: https://github.com/scikit-learn/scikit-learn/issues/21755 */display: inline-block !important;position: relative;}#sk-container-id-3 div.sk-text-repr-fallback {display: none;}</style><div id=\"sk-container-id-3\" class=\"sk-top-container\"><div class=\"sk-text-repr-fallback\"><pre>DecisionTreeRegressor()</pre><b>In a Jupyter environment, please rerun this cell to show the HTML representation or trust the notebook. <br />On GitHub, the HTML representation is unable to render, please try loading this page with nbviewer.org.</b></div><div class=\"sk-container\" hidden><div class=\"sk-item\"><div class=\"sk-estimator sk-toggleable\"><input class=\"sk-toggleable__control sk-hidden--visually\" id=\"sk-estimator-id-3\" type=\"checkbox\" checked><label for=\"sk-estimator-id-3\" class=\"sk-toggleable__label sk-toggleable__label-arrow\">DecisionTreeRegressor</label><div class=\"sk-toggleable__content\"><pre>DecisionTreeRegressor()</pre></div></div></div></div></div>"
      ],
      "text/plain": [
       "DecisionTreeRegressor()"
      ]
     },
     "execution_count": 406,
     "metadata": {},
     "output_type": "execute_result"
    }
   ],
   "source": [
    "DT= DecisionTreeRegressor()\n",
    "DT.fit(x_train,y_train)\n",
    "pred=DT.predict(x_test)\n",
    "print(mean_absolute_error(y_test,pred))\n",
    "print(r2_score(y_test,pred))"
   ]
  },
  {
   "cell_type": "code",
   "execution_count": 417,
   "metadata": {},
   "outputs": [
    {
     "name": "stdout",
     "output_type": "stream",
     "text": [
      "2.493012990582824\n",
      "0.707979092411471\n"
     ]
    }
   ],
   "source": [
    "MLR = LinearRegression()\n",
    "MLR.fit(x_train,y_train)\n",
    "preds_mlr = MLR.predict(x_test)\n",
    "print(mean_absolute_error(y_test,preds_mlr))\n",
    "print(r2_score(y_test,preds_mlr))"
   ]
  },
  {
   "cell_type": "code",
   "execution_count": 424,
   "metadata": {},
   "outputs": [
    {
     "name": "stdout",
     "output_type": "stream",
     "text": [
      "2.0506249078711716\n",
      "0.7822232876190112\n"
     ]
    }
   ],
   "source": [
    "svr = SVR()\n",
    "svr.fit(x_train,y_train)\n",
    "preds_svr = svr.predict(x_test)\n",
    "print(mean_absolute_error(y_test,preds_svr))\n",
    "print(r2_score(y_test,preds_svr))"
   ]
  },
  {
   "cell_type": "code",
   "execution_count": 426,
   "metadata": {},
   "outputs": [
    {
     "name": "stdout",
     "output_type": "stream",
     "text": [
      "1.1980701262272089\n",
      "0.9192130655124733\n"
     ]
    }
   ],
   "source": [
    "RFR = RandomForestRegressor(n_estimators=100, random_state=0)\n",
    "RFR.fit(x_train,y_train)\n",
    "preds_rfr = RFR.predict(x_test)\n",
    "print(mean_absolute_error(y_test,preds_rfr))\n",
    "print(r2_score(y_test,preds_rfr))"
   ]
  }
 ],
 "metadata": {
  "interpreter": {
   "hash": "608f70d04bb385af5d2b05c1c7645e6955dc64e0b13dea7490178ca2fd94fb2a"
  },
  "kernelspec": {
   "display_name": "Python 3.10.2 64-bit",
   "language": "python",
   "name": "python3"
  },
  "language_info": {
   "codemirror_mode": {
    "name": "ipython",
    "version": 3
   },
   "file_extension": ".py",
   "mimetype": "text/x-python",
   "name": "python",
   "nbconvert_exporter": "python",
   "pygments_lexer": "ipython3",
   "version": "3.10.2"
  }
 },
 "nbformat": 4,
 "nbformat_minor": 0
}
