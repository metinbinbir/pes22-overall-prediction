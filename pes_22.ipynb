{
 "cells": [
  {
   "cell_type": "code",
   "execution_count": 511,
   "metadata": {
    "collapsed": true
   },
   "outputs": [],
   "source": [
    "import pandas as pd # to read csv file \n",
    "import numpy as np # to do math operations easily\n",
    "from sklearn.preprocessing import LabelEncoder # to classify\n",
    "from sklearn.model_selection import train_test_split\n",
    "from sklearn import preprocessing\n",
    "from sklearn.preprocessing import MinMaxScaler\n",
    "from sklearn.ensemble import RandomForestClassifier\n",
    "from sklearn.linear_model import LogisticRegressionCV\n",
    "from sklearn.metrics import make_scorer , accuracy_score\n",
    "from sklearn.model_selection import train_test_split, GridSearchCV\n",
    "from sklearn.naive_bayes import GaussianNB\n",
    "from sklearn.neighbors import KNeighborsClassifier\n",
    "from sklearn.preprocessing import LabelEncoder\n",
    "from sklearn import preprocessing\n",
    "from sklearn.svm import SVC, LinearSVC\n",
    "from sklearn.tree import DecisionTreeClassifier\n",
    "from sklearn import preprocessing\n",
    "from sklearn.decomposition import PCA\n",
    "from sklearn.preprocessing import StandardScaler\n",
    "from sklearn import svm\n",
    "\n"
   ]
  },
  {
   "cell_type": "code",
   "execution_count": 512,
   "metadata": {},
   "outputs": [],
   "source": [
    "df = pd.read_csv(\"data.csv\",encoding=\"utf-8\")"
   ]
  },
  {
   "cell_type": "code",
   "execution_count": 513,
   "metadata": {},
   "outputs": [
    {
     "data": {
      "text/html": [
       "<div>\n",
       "<style scoped>\n",
       "    .dataframe tbody tr th:only-of-type {\n",
       "        vertical-align: middle;\n",
       "    }\n",
       "\n",
       "    .dataframe tbody tr th {\n",
       "        vertical-align: top;\n",
       "    }\n",
       "\n",
       "    .dataframe thead th {\n",
       "        text-align: right;\n",
       "    }\n",
       "</style>\n",
       "<table border=\"1\" class=\"dataframe\">\n",
       "  <thead>\n",
       "    <tr style=\"text-align: right;\">\n",
       "      <th></th>\n",
       "      <th>Position</th>\n",
       "      <th>Height</th>\n",
       "      <th>Weight</th>\n",
       "      <th>Age</th>\n",
       "      <th>Preferred Foot</th>\n",
       "      <th>Avg Ball</th>\n",
       "      <th>Avg Pass</th>\n",
       "      <th>Finishing</th>\n",
       "      <th>Speed</th>\n",
       "      <th>Kicking Power</th>\n",
       "      <th>Stamina</th>\n",
       "      <th>Avg Def</th>\n",
       "      <th>Weak Foot</th>\n",
       "      <th>Overall</th>\n",
       "    </tr>\n",
       "  </thead>\n",
       "  <tbody>\n",
       "    <tr>\n",
       "      <th>0</th>\n",
       "      <td>CF</td>\n",
       "      <td>185</td>\n",
       "      <td>81</td>\n",
       "      <td>33</td>\n",
       "      <td>Right</td>\n",
       "      <td>77.0</td>\n",
       "      <td>66.0</td>\n",
       "      <td>86</td>\n",
       "      <td>74</td>\n",
       "      <td>79</td>\n",
       "      <td>71</td>\n",
       "      <td>53.666667</td>\n",
       "      <td>High</td>\n",
       "      <td>88</td>\n",
       "    </tr>\n",
       "    <tr>\n",
       "      <th>1</th>\n",
       "      <td>RWF</td>\n",
       "      <td>175</td>\n",
       "      <td>71</td>\n",
       "      <td>29</td>\n",
       "      <td>Left</td>\n",
       "      <td>80.5</td>\n",
       "      <td>70.0</td>\n",
       "      <td>82</td>\n",
       "      <td>84</td>\n",
       "      <td>70</td>\n",
       "      <td>78</td>\n",
       "      <td>50.666667</td>\n",
       "      <td>Medium</td>\n",
       "      <td>88</td>\n",
       "    </tr>\n",
       "    <tr>\n",
       "      <th>2</th>\n",
       "      <td>RWF</td>\n",
       "      <td>170</td>\n",
       "      <td>72</td>\n",
       "      <td>34</td>\n",
       "      <td>Left</td>\n",
       "      <td>85.5</td>\n",
       "      <td>80.5</td>\n",
       "      <td>85</td>\n",
       "      <td>68</td>\n",
       "      <td>72</td>\n",
       "      <td>66</td>\n",
       "      <td>50.000000</td>\n",
       "      <td>High</td>\n",
       "      <td>87</td>\n",
       "    </tr>\n",
       "    <tr>\n",
       "      <th>3</th>\n",
       "      <td>CF</td>\n",
       "      <td>178</td>\n",
       "      <td>73</td>\n",
       "      <td>23</td>\n",
       "      <td>Right</td>\n",
       "      <td>81.5</td>\n",
       "      <td>69.5</td>\n",
       "      <td>80</td>\n",
       "      <td>84</td>\n",
       "      <td>72</td>\n",
       "      <td>75</td>\n",
       "      <td>53.333333</td>\n",
       "      <td>High</td>\n",
       "      <td>87</td>\n",
       "    </tr>\n",
       "    <tr>\n",
       "      <th>4</th>\n",
       "      <td>CF</td>\n",
       "      <td>187</td>\n",
       "      <td>84</td>\n",
       "      <td>36</td>\n",
       "      <td>Right</td>\n",
       "      <td>77.0</td>\n",
       "      <td>68.0</td>\n",
       "      <td>80</td>\n",
       "      <td>74</td>\n",
       "      <td>82</td>\n",
       "      <td>66</td>\n",
       "      <td>43.333333</td>\n",
       "      <td>Very</td>\n",
       "      <td>86</td>\n",
       "    </tr>\n",
       "  </tbody>\n",
       "</table>\n",
       "</div>"
      ],
      "text/plain": [
       "  Position  Height  Weight  Age Preferred Foot  Avg Ball  Avg Pass  Finishing  \\\n",
       "0       CF     185      81   33          Right      77.0      66.0         86   \n",
       "1      RWF     175      71   29           Left      80.5      70.0         82   \n",
       "2      RWF     170      72   34           Left      85.5      80.5         85   \n",
       "3       CF     178      73   23          Right      81.5      69.5         80   \n",
       "4       CF     187      84   36          Right      77.0      68.0         80   \n",
       "\n",
       "   Speed  Kicking Power  Stamina    Avg Def Weak Foot  Overall  \n",
       "0     74             79       71  53.666667      High       88  \n",
       "1     84             70       78  50.666667    Medium       88  \n",
       "2     68             72       66  50.000000      High       87  \n",
       "3     84             72       75  53.333333      High       87  \n",
       "4     74             82       66  43.333333      Very       86  "
      ]
     },
     "execution_count": 513,
     "metadata": {},
     "output_type": "execute_result"
    }
   ],
   "source": [
    "df.head()"
   ]
  },
  {
   "cell_type": "code",
   "execution_count": 514,
   "metadata": {},
   "outputs": [],
   "source": [
    "le = LabelEncoder()"
   ]
  },
  {
   "cell_type": "code",
   "execution_count": 515,
   "metadata": {},
   "outputs": [
    {
     "data": {
      "text/plain": [
       "array(['CF', 'RWF', 'GK', 'AMF', 'CB', 'DMF', 'LWF', 'LMF', 'SS', 'RB',\n",
       "       'CMF', 'LB', 'RMF'], dtype=object)"
      ]
     },
     "execution_count": 515,
     "metadata": {},
     "output_type": "execute_result"
    }
   ],
   "source": [
    "df.Position.unique()"
   ]
  },
  {
   "cell_type": "code",
   "execution_count": 516,
   "metadata": {},
   "outputs": [
    {
     "data": {
      "text/plain": [
       "17824"
      ]
     },
     "execution_count": 516,
     "metadata": {},
     "output_type": "execute_result"
    }
   ],
   "source": [
    "df.shape[0]"
   ]
  },
  {
   "cell_type": "code",
   "execution_count": 517,
   "metadata": {},
   "outputs": [],
   "source": [
    "df = df[df.Position != 'GK']"
   ]
  },
  {
   "cell_type": "code",
   "execution_count": 518,
   "metadata": {},
   "outputs": [],
   "source": [
    "df.reset_index(drop=True, inplace=True)"
   ]
  },
  {
   "cell_type": "code",
   "execution_count": 519,
   "metadata": {},
   "outputs": [
    {
     "data": {
      "text/plain": [
       "15652"
      ]
     },
     "execution_count": 519,
     "metadata": {},
     "output_type": "execute_result"
    }
   ],
   "source": [
    "df.shape[0]"
   ]
  },
  {
   "cell_type": "code",
   "execution_count": 602,
   "metadata": {},
   "outputs": [
    {
     "ename": "KeyboardInterrupt",
     "evalue": "",
     "output_type": "error",
     "traceback": [
      "\u001B[1;31m---------------------------------------------------------------------------\u001B[0m",
      "\u001B[1;31mKeyboardInterrupt\u001B[0m                         Traceback (most recent call last)",
      "\u001B[1;32mc:\\Users\\binbi\\PycharmProjects\\sahibinden\\pes_22.ipynb Cell 10'\u001B[0m in \u001B[0;36m<cell line: 14>\u001B[1;34m()\u001B[0m\n\u001B[0;32m     <a href='vscode-notebook-cell:/c%3A/Users/binbi/PycharmProjects/sahibinden/pes_22.ipynb#ch0000007?line=10'>11</a>\u001B[0m df[\u001B[39m\"\u001B[39m\u001B[39mPosition\u001B[39m\u001B[39m\"\u001B[39m] \u001B[39m=\u001B[39m df[\u001B[39m\"\u001B[39m\u001B[39mPosition\u001B[39m\u001B[39m\"\u001B[39m]\u001B[39m.\u001B[39mreplace([\u001B[39m'\u001B[39m\u001B[39mLWF\u001B[39m\u001B[39m'\u001B[39m],\u001B[39m\"\u001B[39m\u001B[39mLWF-RWF\u001B[39m\u001B[39m\"\u001B[39m)\n\u001B[0;32m     <a href='vscode-notebook-cell:/c%3A/Users/binbi/PycharmProjects/sahibinden/pes_22.ipynb#ch0000007?line=11'>12</a>\u001B[0m df[\u001B[39m\"\u001B[39m\u001B[39mPosition\u001B[39m\u001B[39m\"\u001B[39m] \u001B[39m=\u001B[39m df[\u001B[39m\"\u001B[39m\u001B[39mPosition\u001B[39m\u001B[39m\"\u001B[39m]\u001B[39m.\u001B[39mreplace([\u001B[39m'\u001B[39m\u001B[39mRWF\u001B[39m\u001B[39m'\u001B[39m],\u001B[39m\"\u001B[39m\u001B[39mLWF-RWF\u001B[39m\u001B[39m\"\u001B[39m)\n\u001B[1;32m---> <a href='vscode-notebook-cell:/c%3A/Users/binbi/PycharmProjects/sahibinden/pes_22.ipynb#ch0000007?line=13'>14</a>\u001B[0m df[\u001B[39m'\u001B[39;49m\u001B[39mPosition\u001B[39;49m\u001B[39m'\u001B[39;49m]\u001B[39m.\u001B[39;49mplot\u001B[39m.\u001B[39;49mbar()\n",
      "File \u001B[1;32mc:\\Users\\binbi\\AppData\\Local\\Programs\\Python\\Python310\\lib\\site-packages\\pandas\\plotting\\_core.py:1130\u001B[0m, in \u001B[0;36mPlotAccessor.bar\u001B[1;34m(self, x, y, **kwargs)\u001B[0m\n\u001B[0;32m   <a href='file:///c%3A/Users/binbi/AppData/Local/Programs/Python/Python310/lib/site-packages/pandas/plotting/_core.py?line=1041'>1042</a>\u001B[0m \u001B[39m@Appender\u001B[39m(\n\u001B[0;32m   <a href='file:///c%3A/Users/binbi/AppData/Local/Programs/Python/Python310/lib/site-packages/pandas/plotting/_core.py?line=1042'>1043</a>\u001B[0m     \u001B[39m\"\"\"\u001B[39;00m\n\u001B[0;32m   <a href='file:///c%3A/Users/binbi/AppData/Local/Programs/Python/Python310/lib/site-packages/pandas/plotting/_core.py?line=1043'>1044</a>\u001B[0m \u001B[39m    See Also\u001B[39;00m\n\u001B[1;32m   (...)\u001B[0m\n\u001B[0;32m   <a href='file:///c%3A/Users/binbi/AppData/Local/Programs/Python/Python310/lib/site-packages/pandas/plotting/_core.py?line=1118'>1119</a>\u001B[0m \u001B[39m@Appender\u001B[39m(_bar_or_line_doc)\n\u001B[0;32m   <a href='file:///c%3A/Users/binbi/AppData/Local/Programs/Python/Python310/lib/site-packages/pandas/plotting/_core.py?line=1119'>1120</a>\u001B[0m \u001B[39mdef\u001B[39;00m \u001B[39mbar\u001B[39m(\u001B[39mself\u001B[39m, x\u001B[39m=\u001B[39m\u001B[39mNone\u001B[39;00m, y\u001B[39m=\u001B[39m\u001B[39mNone\u001B[39;00m, \u001B[39m*\u001B[39m\u001B[39m*\u001B[39mkwargs):\n\u001B[0;32m   <a href='file:///c%3A/Users/binbi/AppData/Local/Programs/Python/Python310/lib/site-packages/pandas/plotting/_core.py?line=1120'>1121</a>\u001B[0m     \u001B[39m\"\"\"\u001B[39;00m\n\u001B[0;32m   <a href='file:///c%3A/Users/binbi/AppData/Local/Programs/Python/Python310/lib/site-packages/pandas/plotting/_core.py?line=1121'>1122</a>\u001B[0m \u001B[39m    Vertical bar plot.\u001B[39;00m\n\u001B[0;32m   <a href='file:///c%3A/Users/binbi/AppData/Local/Programs/Python/Python310/lib/site-packages/pandas/plotting/_core.py?line=1122'>1123</a>\u001B[0m \n\u001B[1;32m   (...)\u001B[0m\n\u001B[0;32m   <a href='file:///c%3A/Users/binbi/AppData/Local/Programs/Python/Python310/lib/site-packages/pandas/plotting/_core.py?line=1127'>1128</a>\u001B[0m \u001B[39m    other axis represents a measured value.\u001B[39;00m\n\u001B[0;32m   <a href='file:///c%3A/Users/binbi/AppData/Local/Programs/Python/Python310/lib/site-packages/pandas/plotting/_core.py?line=1128'>1129</a>\u001B[0m \u001B[39m    \"\"\"\u001B[39;00m\n\u001B[1;32m-> <a href='file:///c%3A/Users/binbi/AppData/Local/Programs/Python/Python310/lib/site-packages/pandas/plotting/_core.py?line=1129'>1130</a>\u001B[0m     \u001B[39mreturn\u001B[39;00m \u001B[39mself\u001B[39m(kind\u001B[39m=\u001B[39m\u001B[39m\"\u001B[39m\u001B[39mbar\u001B[39m\u001B[39m\"\u001B[39m, x\u001B[39m=\u001B[39mx, y\u001B[39m=\u001B[39my, \u001B[39m*\u001B[39m\u001B[39m*\u001B[39mkwargs)\n",
      "File \u001B[1;32mc:\\Users\\binbi\\AppData\\Local\\Programs\\Python\\Python310\\lib\\site-packages\\pandas\\plotting\\_core.py:972\u001B[0m, in \u001B[0;36mPlotAccessor.__call__\u001B[1;34m(self, *args, **kwargs)\u001B[0m\n\u001B[0;32m    <a href='file:///c%3A/Users/binbi/AppData/Local/Programs/Python/Python310/lib/site-packages/pandas/plotting/_core.py?line=968'>969</a>\u001B[0m             label_name \u001B[39m=\u001B[39m label_kw \u001B[39mor\u001B[39;00m data\u001B[39m.\u001B[39mcolumns\n\u001B[0;32m    <a href='file:///c%3A/Users/binbi/AppData/Local/Programs/Python/Python310/lib/site-packages/pandas/plotting/_core.py?line=969'>970</a>\u001B[0m             data\u001B[39m.\u001B[39mcolumns \u001B[39m=\u001B[39m label_name\n\u001B[1;32m--> <a href='file:///c%3A/Users/binbi/AppData/Local/Programs/Python/Python310/lib/site-packages/pandas/plotting/_core.py?line=971'>972</a>\u001B[0m \u001B[39mreturn\u001B[39;00m plot_backend\u001B[39m.\u001B[39mplot(data, kind\u001B[39m=\u001B[39mkind, \u001B[39m*\u001B[39m\u001B[39m*\u001B[39mkwargs)\n",
      "File \u001B[1;32mc:\\Users\\binbi\\AppData\\Local\\Programs\\Python\\Python310\\lib\\site-packages\\pandas\\plotting\\_matplotlib\\__init__.py:71\u001B[0m, in \u001B[0;36mplot\u001B[1;34m(data, kind, **kwargs)\u001B[0m\n\u001B[0;32m     <a href='file:///c%3A/Users/binbi/AppData/Local/Programs/Python/Python310/lib/site-packages/pandas/plotting/_matplotlib/__init__.py?line=68'>69</a>\u001B[0m         kwargs[\u001B[39m\"\u001B[39m\u001B[39max\u001B[39m\u001B[39m\"\u001B[39m] \u001B[39m=\u001B[39m \u001B[39mgetattr\u001B[39m(ax, \u001B[39m\"\u001B[39m\u001B[39mleft_ax\u001B[39m\u001B[39m\"\u001B[39m, ax)\n\u001B[0;32m     <a href='file:///c%3A/Users/binbi/AppData/Local/Programs/Python/Python310/lib/site-packages/pandas/plotting/_matplotlib/__init__.py?line=69'>70</a>\u001B[0m plot_obj \u001B[39m=\u001B[39m PLOT_CLASSES[kind](data, \u001B[39m*\u001B[39m\u001B[39m*\u001B[39mkwargs)\n\u001B[1;32m---> <a href='file:///c%3A/Users/binbi/AppData/Local/Programs/Python/Python310/lib/site-packages/pandas/plotting/_matplotlib/__init__.py?line=70'>71</a>\u001B[0m plot_obj\u001B[39m.\u001B[39;49mgenerate()\n\u001B[0;32m     <a href='file:///c%3A/Users/binbi/AppData/Local/Programs/Python/Python310/lib/site-packages/pandas/plotting/_matplotlib/__init__.py?line=71'>72</a>\u001B[0m plot_obj\u001B[39m.\u001B[39mdraw()\n\u001B[0;32m     <a href='file:///c%3A/Users/binbi/AppData/Local/Programs/Python/Python310/lib/site-packages/pandas/plotting/_matplotlib/__init__.py?line=72'>73</a>\u001B[0m \u001B[39mreturn\u001B[39;00m plot_obj\u001B[39m.\u001B[39mresult\n",
      "File \u001B[1;32mc:\\Users\\binbi\\AppData\\Local\\Programs\\Python\\Python310\\lib\\site-packages\\pandas\\plotting\\_matplotlib\\core.py:288\u001B[0m, in \u001B[0;36mMPLPlot.generate\u001B[1;34m(self)\u001B[0m\n\u001B[0;32m    <a href='file:///c%3A/Users/binbi/AppData/Local/Programs/Python/Python310/lib/site-packages/pandas/plotting/_matplotlib/core.py?line=285'>286</a>\u001B[0m \u001B[39mself\u001B[39m\u001B[39m.\u001B[39m_compute_plot_data()\n\u001B[0;32m    <a href='file:///c%3A/Users/binbi/AppData/Local/Programs/Python/Python310/lib/site-packages/pandas/plotting/_matplotlib/core.py?line=286'>287</a>\u001B[0m \u001B[39mself\u001B[39m\u001B[39m.\u001B[39m_setup_subplots()\n\u001B[1;32m--> <a href='file:///c%3A/Users/binbi/AppData/Local/Programs/Python/Python310/lib/site-packages/pandas/plotting/_matplotlib/core.py?line=287'>288</a>\u001B[0m \u001B[39mself\u001B[39;49m\u001B[39m.\u001B[39;49m_make_plot()\n\u001B[0;32m    <a href='file:///c%3A/Users/binbi/AppData/Local/Programs/Python/Python310/lib/site-packages/pandas/plotting/_matplotlib/core.py?line=288'>289</a>\u001B[0m \u001B[39mself\u001B[39m\u001B[39m.\u001B[39m_add_table()\n\u001B[0;32m    <a href='file:///c%3A/Users/binbi/AppData/Local/Programs/Python/Python310/lib/site-packages/pandas/plotting/_matplotlib/core.py?line=289'>290</a>\u001B[0m \u001B[39mself\u001B[39m\u001B[39m.\u001B[39m_make_legend()\n",
      "File \u001B[1;32mc:\\Users\\binbi\\AppData\\Local\\Programs\\Python\\Python310\\lib\\site-packages\\pandas\\plotting\\_matplotlib\\core.py:1509\u001B[0m, in \u001B[0;36mBarPlot._make_plot\u001B[1;34m(self)\u001B[0m\n\u001B[0;32m   <a href='file:///c%3A/Users/binbi/AppData/Local/Programs/Python/Python310/lib/site-packages/pandas/plotting/_matplotlib/core.py?line=1506'>1507</a>\u001B[0m \u001B[39melse\u001B[39;00m:\n\u001B[0;32m   <a href='file:///c%3A/Users/binbi/AppData/Local/Programs/Python/Python310/lib/site-packages/pandas/plotting/_matplotlib/core.py?line=1507'>1508</a>\u001B[0m     w \u001B[39m=\u001B[39m \u001B[39mself\u001B[39m\u001B[39m.\u001B[39mbar_width \u001B[39m/\u001B[39m K\n\u001B[1;32m-> <a href='file:///c%3A/Users/binbi/AppData/Local/Programs/Python/Python310/lib/site-packages/pandas/plotting/_matplotlib/core.py?line=1508'>1509</a>\u001B[0m     rect \u001B[39m=\u001B[39m \u001B[39mself\u001B[39m\u001B[39m.\u001B[39m_plot(\n\u001B[0;32m   <a href='file:///c%3A/Users/binbi/AppData/Local/Programs/Python/Python310/lib/site-packages/pandas/plotting/_matplotlib/core.py?line=1509'>1510</a>\u001B[0m         ax,\n\u001B[0;32m   <a href='file:///c%3A/Users/binbi/AppData/Local/Programs/Python/Python310/lib/site-packages/pandas/plotting/_matplotlib/core.py?line=1510'>1511</a>\u001B[0m         \u001B[39mself\u001B[39m\u001B[39m.\u001B[39max_pos \u001B[39m+\u001B[39m (i \u001B[39m+\u001B[39m \u001B[39m0.5\u001B[39m) \u001B[39m*\u001B[39m w,\n\u001B[0;32m   <a href='file:///c%3A/Users/binbi/AppData/Local/Programs/Python/Python310/lib/site-packages/pandas/plotting/_matplotlib/core.py?line=1511'>1512</a>\u001B[0m         y,\n\u001B[0;32m   <a href='file:///c%3A/Users/binbi/AppData/Local/Programs/Python/Python310/lib/site-packages/pandas/plotting/_matplotlib/core.py?line=1512'>1513</a>\u001B[0m         w,\n\u001B[0;32m   <a href='file:///c%3A/Users/binbi/AppData/Local/Programs/Python/Python310/lib/site-packages/pandas/plotting/_matplotlib/core.py?line=1513'>1514</a>\u001B[0m         start\u001B[39m=\u001B[39mstart,\n\u001B[0;32m   <a href='file:///c%3A/Users/binbi/AppData/Local/Programs/Python/Python310/lib/site-packages/pandas/plotting/_matplotlib/core.py?line=1514'>1515</a>\u001B[0m         label\u001B[39m=\u001B[39mlabel,\n\u001B[0;32m   <a href='file:///c%3A/Users/binbi/AppData/Local/Programs/Python/Python310/lib/site-packages/pandas/plotting/_matplotlib/core.py?line=1515'>1516</a>\u001B[0m         log\u001B[39m=\u001B[39m\u001B[39mself\u001B[39m\u001B[39m.\u001B[39mlog,\n\u001B[0;32m   <a href='file:///c%3A/Users/binbi/AppData/Local/Programs/Python/Python310/lib/site-packages/pandas/plotting/_matplotlib/core.py?line=1516'>1517</a>\u001B[0m         \u001B[39m*\u001B[39m\u001B[39m*\u001B[39mkwds,\n\u001B[0;32m   <a href='file:///c%3A/Users/binbi/AppData/Local/Programs/Python/Python310/lib/site-packages/pandas/plotting/_matplotlib/core.py?line=1517'>1518</a>\u001B[0m     )\n\u001B[0;32m   <a href='file:///c%3A/Users/binbi/AppData/Local/Programs/Python/Python310/lib/site-packages/pandas/plotting/_matplotlib/core.py?line=1518'>1519</a>\u001B[0m \u001B[39mself\u001B[39m\u001B[39m.\u001B[39m_append_legend_handles_labels(rect, label)\n",
      "File \u001B[1;32mc:\\Users\\binbi\\AppData\\Local\\Programs\\Python\\Python310\\lib\\site-packages\\pandas\\plotting\\_matplotlib\\core.py:1439\u001B[0m, in \u001B[0;36mBarPlot._plot\u001B[1;34m(cls, ax, x, y, w, start, log, **kwds)\u001B[0m\n\u001B[0;32m   <a href='file:///c%3A/Users/binbi/AppData/Local/Programs/Python/Python310/lib/site-packages/pandas/plotting/_matplotlib/core.py?line=1436'>1437</a>\u001B[0m \u001B[39m@classmethod\u001B[39m\n\u001B[0;32m   <a href='file:///c%3A/Users/binbi/AppData/Local/Programs/Python/Python310/lib/site-packages/pandas/plotting/_matplotlib/core.py?line=1437'>1438</a>\u001B[0m \u001B[39mdef\u001B[39;00m \u001B[39m_plot\u001B[39m(\u001B[39mcls\u001B[39m, ax: Axes, x, y, w, start\u001B[39m=\u001B[39m\u001B[39m0\u001B[39m, log\u001B[39m=\u001B[39m\u001B[39mFalse\u001B[39;00m, \u001B[39m*\u001B[39m\u001B[39m*\u001B[39mkwds):\n\u001B[1;32m-> <a href='file:///c%3A/Users/binbi/AppData/Local/Programs/Python/Python310/lib/site-packages/pandas/plotting/_matplotlib/core.py?line=1438'>1439</a>\u001B[0m     \u001B[39mreturn\u001B[39;00m ax\u001B[39m.\u001B[39mbar(x, y, w, bottom\u001B[39m=\u001B[39mstart, log\u001B[39m=\u001B[39mlog, \u001B[39m*\u001B[39m\u001B[39m*\u001B[39mkwds)\n",
      "File \u001B[1;32mc:\\Users\\binbi\\AppData\\Local\\Programs\\Python\\Python310\\lib\\site-packages\\matplotlib\\__init__.py:1412\u001B[0m, in \u001B[0;36m_preprocess_data.<locals>.inner\u001B[1;34m(ax, data, *args, **kwargs)\u001B[0m\n\u001B[0;32m   <a href='file:///c%3A/Users/binbi/AppData/Local/Programs/Python/Python310/lib/site-packages/matplotlib/__init__.py?line=1408'>1409</a>\u001B[0m \u001B[39m@functools\u001B[39m\u001B[39m.\u001B[39mwraps(func)\n\u001B[0;32m   <a href='file:///c%3A/Users/binbi/AppData/Local/Programs/Python/Python310/lib/site-packages/matplotlib/__init__.py?line=1409'>1410</a>\u001B[0m \u001B[39mdef\u001B[39;00m \u001B[39minner\u001B[39m(ax, \u001B[39m*\u001B[39margs, data\u001B[39m=\u001B[39m\u001B[39mNone\u001B[39;00m, \u001B[39m*\u001B[39m\u001B[39m*\u001B[39mkwargs):\n\u001B[0;32m   <a href='file:///c%3A/Users/binbi/AppData/Local/Programs/Python/Python310/lib/site-packages/matplotlib/__init__.py?line=1410'>1411</a>\u001B[0m     \u001B[39mif\u001B[39;00m data \u001B[39mis\u001B[39;00m \u001B[39mNone\u001B[39;00m:\n\u001B[1;32m-> <a href='file:///c%3A/Users/binbi/AppData/Local/Programs/Python/Python310/lib/site-packages/matplotlib/__init__.py?line=1411'>1412</a>\u001B[0m         \u001B[39mreturn\u001B[39;00m func(ax, \u001B[39m*\u001B[39m\u001B[39mmap\u001B[39m(sanitize_sequence, args), \u001B[39m*\u001B[39m\u001B[39m*\u001B[39mkwargs)\n\u001B[0;32m   <a href='file:///c%3A/Users/binbi/AppData/Local/Programs/Python/Python310/lib/site-packages/matplotlib/__init__.py?line=1413'>1414</a>\u001B[0m     bound \u001B[39m=\u001B[39m new_sig\u001B[39m.\u001B[39mbind(ax, \u001B[39m*\u001B[39margs, \u001B[39m*\u001B[39m\u001B[39m*\u001B[39mkwargs)\n\u001B[0;32m   <a href='file:///c%3A/Users/binbi/AppData/Local/Programs/Python/Python310/lib/site-packages/matplotlib/__init__.py?line=1414'>1415</a>\u001B[0m     auto_label \u001B[39m=\u001B[39m (bound\u001B[39m.\u001B[39marguments\u001B[39m.\u001B[39mget(label_namer)\n\u001B[0;32m   <a href='file:///c%3A/Users/binbi/AppData/Local/Programs/Python/Python310/lib/site-packages/matplotlib/__init__.py?line=1415'>1416</a>\u001B[0m                   \u001B[39mor\u001B[39;00m bound\u001B[39m.\u001B[39mkwargs\u001B[39m.\u001B[39mget(label_namer))\n",
      "File \u001B[1;32mc:\\Users\\binbi\\AppData\\Local\\Programs\\Python\\Python310\\lib\\site-packages\\matplotlib\\axes\\_axes.py:2409\u001B[0m, in \u001B[0;36mAxes.bar\u001B[1;34m(self, x, height, width, bottom, align, **kwargs)\u001B[0m\n\u001B[0;32m   <a href='file:///c%3A/Users/binbi/AppData/Local/Programs/Python/Python310/lib/site-packages/matplotlib/axes/_axes.py?line=2406'>2407</a>\u001B[0m     \u001B[39melif\u001B[39;00m orientation \u001B[39m==\u001B[39m \u001B[39m'\u001B[39m\u001B[39mhorizontal\u001B[39m\u001B[39m'\u001B[39m:\n\u001B[0;32m   <a href='file:///c%3A/Users/binbi/AppData/Local/Programs/Python/Python310/lib/site-packages/matplotlib/axes/_axes.py?line=2407'>2408</a>\u001B[0m         r\u001B[39m.\u001B[39msticky_edges\u001B[39m.\u001B[39mx\u001B[39m.\u001B[39mappend(l)\n\u001B[1;32m-> <a href='file:///c%3A/Users/binbi/AppData/Local/Programs/Python/Python310/lib/site-packages/matplotlib/axes/_axes.py?line=2408'>2409</a>\u001B[0m     \u001B[39mself\u001B[39;49m\u001B[39m.\u001B[39;49madd_patch(r)\n\u001B[0;32m   <a href='file:///c%3A/Users/binbi/AppData/Local/Programs/Python/Python310/lib/site-packages/matplotlib/axes/_axes.py?line=2409'>2410</a>\u001B[0m     patches\u001B[39m.\u001B[39mappend(r)\n\u001B[0;32m   <a href='file:///c%3A/Users/binbi/AppData/Local/Programs/Python/Python310/lib/site-packages/matplotlib/axes/_axes.py?line=2411'>2412</a>\u001B[0m \u001B[39mif\u001B[39;00m xerr \u001B[39mis\u001B[39;00m \u001B[39mnot\u001B[39;00m \u001B[39mNone\u001B[39;00m \u001B[39mor\u001B[39;00m yerr \u001B[39mis\u001B[39;00m \u001B[39mnot\u001B[39;00m \u001B[39mNone\u001B[39;00m:\n",
      "File \u001B[1;32mc:\\Users\\binbi\\AppData\\Local\\Programs\\Python\\Python310\\lib\\site-packages\\matplotlib\\axes\\_base.py:2363\u001B[0m, in \u001B[0;36m_AxesBase.add_patch\u001B[1;34m(self, p)\u001B[0m\n\u001B[0;32m   <a href='file:///c%3A/Users/binbi/AppData/Local/Programs/Python/Python310/lib/site-packages/matplotlib/axes/_base.py?line=2360'>2361</a>\u001B[0m \u001B[39mif\u001B[39;00m p\u001B[39m.\u001B[39mget_clip_path() \u001B[39mis\u001B[39;00m \u001B[39mNone\u001B[39;00m:\n\u001B[0;32m   <a href='file:///c%3A/Users/binbi/AppData/Local/Programs/Python/Python310/lib/site-packages/matplotlib/axes/_base.py?line=2361'>2362</a>\u001B[0m     p\u001B[39m.\u001B[39mset_clip_path(\u001B[39mself\u001B[39m\u001B[39m.\u001B[39mpatch)\n\u001B[1;32m-> <a href='file:///c%3A/Users/binbi/AppData/Local/Programs/Python/Python310/lib/site-packages/matplotlib/axes/_base.py?line=2362'>2363</a>\u001B[0m \u001B[39mself\u001B[39;49m\u001B[39m.\u001B[39;49m_update_patch_limits(p)\n\u001B[0;32m   <a href='file:///c%3A/Users/binbi/AppData/Local/Programs/Python/Python310/lib/site-packages/matplotlib/axes/_base.py?line=2363'>2364</a>\u001B[0m \u001B[39mself\u001B[39m\u001B[39m.\u001B[39m_children\u001B[39m.\u001B[39mappend(p)\n\u001B[0;32m   <a href='file:///c%3A/Users/binbi/AppData/Local/Programs/Python/Python310/lib/site-packages/matplotlib/axes/_base.py?line=2364'>2365</a>\u001B[0m p\u001B[39m.\u001B[39m_remove_method \u001B[39m=\u001B[39m \u001B[39mself\u001B[39m\u001B[39m.\u001B[39m_children\u001B[39m.\u001B[39mremove\n",
      "File \u001B[1;32mc:\\Users\\binbi\\AppData\\Local\\Programs\\Python\\Python310\\lib\\site-packages\\matplotlib\\axes\\_base.py:2398\u001B[0m, in \u001B[0;36m_AxesBase._update_patch_limits\u001B[1;34m(self, patch)\u001B[0m\n\u001B[0;32m   <a href='file:///c%3A/Users/binbi/AppData/Local/Programs/Python/Python310/lib/site-packages/matplotlib/axes/_base.py?line=2395'>2396</a>\u001B[0m trf_to_data \u001B[39m=\u001B[39m patch_trf \u001B[39m-\u001B[39m \u001B[39mself\u001B[39m\u001B[39m.\u001B[39mtransData\n\u001B[0;32m   <a href='file:///c%3A/Users/binbi/AppData/Local/Programs/Python/Python310/lib/site-packages/matplotlib/axes/_base.py?line=2396'>2397</a>\u001B[0m xys \u001B[39m=\u001B[39m trf_to_data\u001B[39m.\u001B[39mtransform(vertices)\n\u001B[1;32m-> <a href='file:///c%3A/Users/binbi/AppData/Local/Programs/Python/Python310/lib/site-packages/matplotlib/axes/_base.py?line=2397'>2398</a>\u001B[0m \u001B[39mself\u001B[39;49m\u001B[39m.\u001B[39;49mupdate_datalim(xys, updatex\u001B[39m=\u001B[39;49mupdatex, updatey\u001B[39m=\u001B[39;49mupdatey)\n",
      "File \u001B[1;32mc:\\Users\\binbi\\AppData\\Local\\Programs\\Python\\Python310\\lib\\site-packages\\matplotlib\\axes\\_base.py:2483\u001B[0m, in \u001B[0;36m_AxesBase.update_datalim\u001B[1;34m(self, xys, updatex, updatey)\u001B[0m\n\u001B[0;32m   <a href='file:///c%3A/Users/binbi/AppData/Local/Programs/Python/Python310/lib/site-packages/matplotlib/axes/_base.py?line=2480'>2481</a>\u001B[0m \u001B[39mif\u001B[39;00m \u001B[39mnot\u001B[39;00m np\u001B[39m.\u001B[39many(np\u001B[39m.\u001B[39misfinite(xys)):\n\u001B[0;32m   <a href='file:///c%3A/Users/binbi/AppData/Local/Programs/Python/Python310/lib/site-packages/matplotlib/axes/_base.py?line=2481'>2482</a>\u001B[0m     \u001B[39mreturn\u001B[39;00m\n\u001B[1;32m-> <a href='file:///c%3A/Users/binbi/AppData/Local/Programs/Python/Python310/lib/site-packages/matplotlib/axes/_base.py?line=2482'>2483</a>\u001B[0m \u001B[39mself\u001B[39;49m\u001B[39m.\u001B[39;49mdataLim\u001B[39m.\u001B[39;49mupdate_from_data_xy(xys, \u001B[39mself\u001B[39;49m\u001B[39m.\u001B[39;49mignore_existing_data_limits,\n\u001B[0;32m   <a href='file:///c%3A/Users/binbi/AppData/Local/Programs/Python/Python310/lib/site-packages/matplotlib/axes/_base.py?line=2483'>2484</a>\u001B[0m                                  updatex\u001B[39m=\u001B[39;49mupdatex, updatey\u001B[39m=\u001B[39;49mupdatey)\n\u001B[0;32m   <a href='file:///c%3A/Users/binbi/AppData/Local/Programs/Python/Python310/lib/site-packages/matplotlib/axes/_base.py?line=2484'>2485</a>\u001B[0m \u001B[39mself\u001B[39m\u001B[39m.\u001B[39mignore_existing_data_limits \u001B[39m=\u001B[39m \u001B[39mFalse\u001B[39;00m\n",
      "File \u001B[1;32mc:\\Users\\binbi\\AppData\\Local\\Programs\\Python\\Python310\\lib\\site-packages\\matplotlib\\transforms.py:968\u001B[0m, in \u001B[0;36mBbox.update_from_data_xy\u001B[1;34m(self, xy, ignore, updatex, updatey)\u001B[0m\n\u001B[0;32m    <a href='file:///c%3A/Users/binbi/AppData/Local/Programs/Python/Python310/lib/site-packages/matplotlib/transforms.py?line=964'>965</a>\u001B[0m     \u001B[39mreturn\u001B[39;00m\n\u001B[0;32m    <a href='file:///c%3A/Users/binbi/AppData/Local/Programs/Python/Python310/lib/site-packages/matplotlib/transforms.py?line=966'>967</a>\u001B[0m path \u001B[39m=\u001B[39m Path(xy)\n\u001B[1;32m--> <a href='file:///c%3A/Users/binbi/AppData/Local/Programs/Python/Python310/lib/site-packages/matplotlib/transforms.py?line=967'>968</a>\u001B[0m \u001B[39mself\u001B[39;49m\u001B[39m.\u001B[39;49mupdate_from_path(path, ignore\u001B[39m=\u001B[39;49mignore,\n\u001B[0;32m    <a href='file:///c%3A/Users/binbi/AppData/Local/Programs/Python/Python310/lib/site-packages/matplotlib/transforms.py?line=968'>969</a>\u001B[0m                       updatex\u001B[39m=\u001B[39;49mupdatex, updatey\u001B[39m=\u001B[39;49mupdatey)\n",
      "\u001B[1;31mKeyboardInterrupt\u001B[0m: "
     ]
    },
    {
     "data": {
      "image/png": "[encoded data removed]",
      "text/plain": [
       "<Figure size 432x288 with 1 Axes>"
      ]
     },
     "metadata": {
      "needs_background": "light"
     },
     "output_type": "display_data"
    }
   ],
   "source": [
    "df[\"Position\"] = df[\"Position\"].replace(['CF'],\"ST\")\n",
    "df[\"Position\"] = df[\"Position\"].replace(['SS'],\"ST\")\n",
    "\n",
    "df[\"Position\"] = df[\"Position\"].replace(['CMF'],\"CM\")\n",
    "df[\"Position\"] = df[\"Position\"].replace(['RMF'],\"CM\")\n",
    "df[\"Position\"] = df[\"Position\"].replace(['LMF'],\"CM\")\n",
    "\n",
    "df[\"Position\"] = df[\"Position\"].replace(['LB'],\"LB-RB\")\n",
    "df[\"Position\"] = df[\"Position\"].replace(['RB'],\"LB-RB\")\n",
    "\n",
    "df[\"Position\"] = df[\"Position\"].replace(['LWF'],\"LWF-RWF\")\n",
    "df[\"Position\"] = df[\"Position\"].replace(['RWF'],\"LWF-RWF\")\n",
    "\n",
    "\n"
   ]
  },
  {
   "cell_type": "code",
   "execution_count": 521,
   "metadata": {},
   "outputs": [],
   "source": [
    "df[\"Preferred Foot\"] = le.fit_transform(df[\"Preferred Foot\"])\n",
    "df[\"Weak Foot\"] = le.fit_transform(df[\"Weak Foot\"])\n",
    "df[\"Position\"] = le.fit_transform(df[\"Position\"])"
   ]
  },
  {
   "cell_type": "code",
   "execution_count": 548,
   "metadata": {},
   "outputs": [
    {
     "data": {
      "text/plain": [
       "array([6, 5, 0, 1, 3, 2, 4])"
      ]
     },
     "execution_count": 548,
     "metadata": {},
     "output_type": "execute_result"
    }
   ],
   "source": [
    "df.Position.unique()"
   ]
  },
  {
   "cell_type": "code",
   "execution_count": 522,
   "metadata": {},
   "outputs": [
    {
     "data": {
      "text/plain": [
       "30"
      ]
     },
     "execution_count": 522,
     "metadata": {},
     "output_type": "execute_result"
    }
   ],
   "source": [
    "df[\"Finishing\"][df['Finishing'] > 75].count()"
   ]
  },
  {
   "cell_type": "code",
   "execution_count": 523,
   "metadata": {},
   "outputs": [
    {
     "data": {
      "text/html": [
       "<div>\n",
       "<style scoped>\n",
       "    .dataframe tbody tr th:only-of-type {\n",
       "        vertical-align: middle;\n",
       "    }\n",
       "\n",
       "    .dataframe tbody tr th {\n",
       "        vertical-align: top;\n",
       "    }\n",
       "\n",
       "    .dataframe thead th {\n",
       "        text-align: right;\n",
       "    }\n",
       "</style>\n",
       "<table border=\"1\" class=\"dataframe\">\n",
       "  <thead>\n",
       "    <tr style=\"text-align: right;\">\n",
       "      <th></th>\n",
       "      <th>Position</th>\n",
       "      <th>Height</th>\n",
       "      <th>Weight</th>\n",
       "      <th>Age</th>\n",
       "      <th>Preferred Foot</th>\n",
       "      <th>Avg Ball</th>\n",
       "      <th>Avg Pass</th>\n",
       "      <th>Finishing</th>\n",
       "      <th>Speed</th>\n",
       "      <th>Kicking Power</th>\n",
       "      <th>Stamina</th>\n",
       "      <th>Avg Def</th>\n",
       "      <th>Weak Foot</th>\n",
       "      <th>Overall</th>\n",
       "    </tr>\n",
       "  </thead>\n",
       "  <tbody>\n",
       "    <tr>\n",
       "      <th>0</th>\n",
       "      <td>6</td>\n",
       "      <td>185</td>\n",
       "      <td>81</td>\n",
       "      <td>33</td>\n",
       "      <td>1</td>\n",
       "      <td>77.0</td>\n",
       "      <td>66.0</td>\n",
       "      <td>86</td>\n",
       "      <td>74</td>\n",
       "      <td>79</td>\n",
       "      <td>71</td>\n",
       "      <td>53.666667</td>\n",
       "      <td>0</td>\n",
       "      <td>88</td>\n",
       "    </tr>\n",
       "    <tr>\n",
       "      <th>1</th>\n",
       "      <td>5</td>\n",
       "      <td>175</td>\n",
       "      <td>71</td>\n",
       "      <td>29</td>\n",
       "      <td>0</td>\n",
       "      <td>80.5</td>\n",
       "      <td>70.0</td>\n",
       "      <td>82</td>\n",
       "      <td>84</td>\n",
       "      <td>70</td>\n",
       "      <td>78</td>\n",
       "      <td>50.666667</td>\n",
       "      <td>1</td>\n",
       "      <td>88</td>\n",
       "    </tr>\n",
       "    <tr>\n",
       "      <th>2</th>\n",
       "      <td>5</td>\n",
       "      <td>170</td>\n",
       "      <td>72</td>\n",
       "      <td>34</td>\n",
       "      <td>0</td>\n",
       "      <td>85.5</td>\n",
       "      <td>80.5</td>\n",
       "      <td>85</td>\n",
       "      <td>68</td>\n",
       "      <td>72</td>\n",
       "      <td>66</td>\n",
       "      <td>50.000000</td>\n",
       "      <td>0</td>\n",
       "      <td>87</td>\n",
       "    </tr>\n",
       "    <tr>\n",
       "      <th>3</th>\n",
       "      <td>6</td>\n",
       "      <td>178</td>\n",
       "      <td>73</td>\n",
       "      <td>23</td>\n",
       "      <td>1</td>\n",
       "      <td>81.5</td>\n",
       "      <td>69.5</td>\n",
       "      <td>80</td>\n",
       "      <td>84</td>\n",
       "      <td>72</td>\n",
       "      <td>75</td>\n",
       "      <td>53.333333</td>\n",
       "      <td>0</td>\n",
       "      <td>87</td>\n",
       "    </tr>\n",
       "    <tr>\n",
       "      <th>4</th>\n",
       "      <td>6</td>\n",
       "      <td>187</td>\n",
       "      <td>84</td>\n",
       "      <td>36</td>\n",
       "      <td>1</td>\n",
       "      <td>77.0</td>\n",
       "      <td>68.0</td>\n",
       "      <td>80</td>\n",
       "      <td>74</td>\n",
       "      <td>82</td>\n",
       "      <td>66</td>\n",
       "      <td>43.333333</td>\n",
       "      <td>3</td>\n",
       "      <td>86</td>\n",
       "    </tr>\n",
       "  </tbody>\n",
       "</table>\n",
       "</div>"
      ],
      "text/plain": [
       "   Position  Height  Weight  Age  Preferred Foot  Avg Ball  Avg Pass  \\\n",
       "0         6     185      81   33               1      77.0      66.0   \n",
       "1         5     175      71   29               0      80.5      70.0   \n",
       "2         5     170      72   34               0      85.5      80.5   \n",
       "3         6     178      73   23               1      81.5      69.5   \n",
       "4         6     187      84   36               1      77.0      68.0   \n",
       "\n",
       "   Finishing  Speed  Kicking Power  Stamina    Avg Def  Weak Foot  Overall  \n",
       "0         86     74             79       71  53.666667          0       88  \n",
       "1         82     84             70       78  50.666667          1       88  \n",
       "2         85     68             72       66  50.000000          0       87  \n",
       "3         80     84             72       75  53.333333          0       87  \n",
       "4         80     74             82       66  43.333333          3       86  "
      ]
     },
     "execution_count": 523,
     "metadata": {},
     "output_type": "execute_result"
    }
   ],
   "source": [
    "df.head()"
   ]
  },
  {
   "cell_type": "code",
   "execution_count": 524,
   "metadata": {},
   "outputs": [],
   "source": [
    "df[\"Age\"] = pd.cut(df['Age'], bins=[15,22,28,33,45], labels=[0,1,2,3])"
   ]
  },
  {
   "cell_type": "code",
   "execution_count": 525,
   "metadata": {},
   "outputs": [
    {
     "data": {
      "text/plain": [
       "155"
      ]
     },
     "execution_count": 525,
     "metadata": {},
     "output_type": "execute_result"
    }
   ],
   "source": [
    "min(df['Height'])"
   ]
  },
  {
   "cell_type": "code",
   "execution_count": 526,
   "metadata": {},
   "outputs": [
    {
     "data": {
      "text/plain": [
       "204"
      ]
     },
     "execution_count": 526,
     "metadata": {},
     "output_type": "execute_result"
    }
   ],
   "source": [
    "max(df['Height'])"
   ]
  },
  {
   "cell_type": "code",
   "execution_count": 527,
   "metadata": {},
   "outputs": [],
   "source": [
    "df[\"Height\"] = pd.cut(df['Height'], bins=[150,165,175,185,210], labels=[0,1,2,3])"
   ]
  },
  {
   "cell_type": "code",
   "execution_count": 528,
   "metadata": {},
   "outputs": [
    {
     "data": {
      "text/plain": [
       "<AxesSubplot:>"
      ]
     },
     "execution_count": 528,
     "metadata": {},
     "output_type": "execute_result"
    },
    {
     "data": {
      "image/png": "[encoded data removed]",
      "text/plain": [
       "<Figure size 432x288 with 1 Axes>"
      ]
     },
     "metadata": {
      "needs_background": "light"
     },
     "output_type": "display_data"
    }
   ],
   "source": [
    "df[\"Height\"].hist()"
   ]
  },
  {
   "cell_type": "code",
   "execution_count": 529,
   "metadata": {},
   "outputs": [
    {
     "data": {
      "text/plain": [
       "42.0"
      ]
     },
     "execution_count": 529,
     "metadata": {},
     "output_type": "execute_result"
    }
   ],
   "source": [
    "min(df[\"Avg Ball\"])"
   ]
  },
  {
   "cell_type": "code",
   "execution_count": 530,
   "metadata": {},
   "outputs": [
    {
     "data": {
      "text/plain": [
       "85.5"
      ]
     },
     "execution_count": 530,
     "metadata": {},
     "output_type": "execute_result"
    }
   ],
   "source": [
    "max(df['Avg Ball'])"
   ]
  },
  {
   "cell_type": "code",
   "execution_count": 531,
   "metadata": {},
   "outputs": [],
   "source": [
    "df[\"Avg Ball\"] = pd.cut(df['Avg Ball'], bins=[40,57,65,73,100], labels=[0,1,2,3])"
   ]
  },
  {
   "cell_type": "code",
   "execution_count": 532,
   "metadata": {},
   "outputs": [
    {
     "data": {
      "text/plain": [
       "<AxesSubplot:>"
      ]
     },
     "execution_count": 532,
     "metadata": {},
     "output_type": "execute_result"
    },
    {
     "data": {
      "image/png": "[encoded data removed]",
      "text/plain": [
       "<Figure size 432x288 with 1 Axes>"
      ]
     },
     "metadata": {
      "needs_background": "light"
     },
     "output_type": "display_data"
    }
   ],
   "source": [
    "df['Avg Ball'].hist()"
   ]
  },
  {
   "cell_type": "code",
   "execution_count": 533,
   "metadata": {},
   "outputs": [
    {
     "data": {
      "text/plain": [
       "47"
      ]
     },
     "execution_count": 533,
     "metadata": {},
     "output_type": "execute_result"
    }
   ],
   "source": [
    "min(df['Weight'])"
   ]
  },
  {
   "cell_type": "code",
   "execution_count": 534,
   "metadata": {},
   "outputs": [
    {
     "data": {
      "text/plain": [
       "100"
      ]
     },
     "execution_count": 534,
     "metadata": {},
     "output_type": "execute_result"
    }
   ],
   "source": [
    "max(df['Weight'])"
   ]
  },
  {
   "cell_type": "code",
   "execution_count": 535,
   "metadata": {},
   "outputs": [],
   "source": [
    "df['Weight']= pd.cut(df['Weight'], bins=[39,70,75,80,100], labels=[0,1,2,3])"
   ]
  },
  {
   "cell_type": "code",
   "execution_count": 536,
   "metadata": {},
   "outputs": [
    {
     "data": {
      "text/plain": [
       "0        3\n",
       "1        1\n",
       "2        1\n",
       "3        1\n",
       "4        3\n",
       "        ..\n",
       "15647    0\n",
       "15648    0\n",
       "15649    0\n",
       "15650    0\n",
       "15651    0\n",
       "Name: Weight, Length: 15652, dtype: category\n",
       "Categories (4, int64): [0 < 1 < 2 < 3]"
      ]
     },
     "execution_count": 536,
     "metadata": {},
     "output_type": "execute_result"
    }
   ],
   "source": [
    "df['Weight']"
   ]
  },
  {
   "cell_type": "code",
   "execution_count": 537,
   "metadata": {},
   "outputs": [
    {
     "data": {
      "text/plain": [
       "42.0"
      ]
     },
     "execution_count": 537,
     "metadata": {},
     "output_type": "execute_result"
    }
   ],
   "source": [
    "min(df['Avg Pass'])"
   ]
  },
  {
   "cell_type": "code",
   "execution_count": 538,
   "metadata": {},
   "outputs": [
    {
     "data": {
      "text/plain": [
       "84.0"
      ]
     },
     "execution_count": 538,
     "metadata": {},
     "output_type": "execute_result"
    }
   ],
   "source": [
    "max(df['Avg Pass'])"
   ]
  },
  {
   "cell_type": "code",
   "execution_count": 539,
   "metadata": {},
   "outputs": [],
   "source": [
    "df['Avg Pass'] = pd.cut(df['Avg Pass'], bins=[39,58,70,100], labels=[0,1,2])"
   ]
  },
  {
   "cell_type": "code",
   "execution_count": 540,
   "metadata": {},
   "outputs": [
    {
     "data": {
      "text/plain": [
       "<AxesSubplot:>"
      ]
     },
     "execution_count": 540,
     "metadata": {},
     "output_type": "execute_result"
    },
    {
     "data": {
      "image/png": "[encoded data removed]",
      "text/plain": [
       "<Figure size 432x288 with 1 Axes>"
      ]
     },
     "metadata": {
      "needs_background": "light"
     },
     "output_type": "display_data"
    }
   ],
   "source": [
    "df['Avg Pass'].hist()"
   ]
  },
  {
   "cell_type": "code",
   "execution_count": 541,
   "metadata": {},
   "outputs": [
    {
     "data": {
      "text/html": [
       "<div>\n",
       "<style scoped>\n",
       "    .dataframe tbody tr th:only-of-type {\n",
       "        vertical-align: middle;\n",
       "    }\n",
       "\n",
       "    .dataframe tbody tr th {\n",
       "        vertical-align: top;\n",
       "    }\n",
       "\n",
       "    .dataframe thead th {\n",
       "        text-align: right;\n",
       "    }\n",
       "</style>\n",
       "<table border=\"1\" class=\"dataframe\">\n",
       "  <thead>\n",
       "    <tr style=\"text-align: right;\">\n",
       "      <th></th>\n",
       "      <th>Position</th>\n",
       "      <th>Height</th>\n",
       "      <th>Weight</th>\n",
       "      <th>Age</th>\n",
       "      <th>Preferred Foot</th>\n",
       "      <th>Avg Ball</th>\n",
       "      <th>Avg Pass</th>\n",
       "      <th>Finishing</th>\n",
       "      <th>Speed</th>\n",
       "      <th>Kicking Power</th>\n",
       "      <th>Stamina</th>\n",
       "      <th>Avg Def</th>\n",
       "      <th>Weak Foot</th>\n",
       "      <th>Overall</th>\n",
       "    </tr>\n",
       "  </thead>\n",
       "  <tbody>\n",
       "    <tr>\n",
       "      <th>0</th>\n",
       "      <td>6</td>\n",
       "      <td>2</td>\n",
       "      <td>3</td>\n",
       "      <td>2</td>\n",
       "      <td>1</td>\n",
       "      <td>3</td>\n",
       "      <td>1</td>\n",
       "      <td>86</td>\n",
       "      <td>74</td>\n",
       "      <td>79</td>\n",
       "      <td>71</td>\n",
       "      <td>53.666667</td>\n",
       "      <td>0</td>\n",
       "      <td>88</td>\n",
       "    </tr>\n",
       "    <tr>\n",
       "      <th>1</th>\n",
       "      <td>5</td>\n",
       "      <td>1</td>\n",
       "      <td>1</td>\n",
       "      <td>2</td>\n",
       "      <td>0</td>\n",
       "      <td>3</td>\n",
       "      <td>1</td>\n",
       "      <td>82</td>\n",
       "      <td>84</td>\n",
       "      <td>70</td>\n",
       "      <td>78</td>\n",
       "      <td>50.666667</td>\n",
       "      <td>1</td>\n",
       "      <td>88</td>\n",
       "    </tr>\n",
       "    <tr>\n",
       "      <th>2</th>\n",
       "      <td>5</td>\n",
       "      <td>1</td>\n",
       "      <td>1</td>\n",
       "      <td>3</td>\n",
       "      <td>0</td>\n",
       "      <td>3</td>\n",
       "      <td>2</td>\n",
       "      <td>85</td>\n",
       "      <td>68</td>\n",
       "      <td>72</td>\n",
       "      <td>66</td>\n",
       "      <td>50.000000</td>\n",
       "      <td>0</td>\n",
       "      <td>87</td>\n",
       "    </tr>\n",
       "    <tr>\n",
       "      <th>3</th>\n",
       "      <td>6</td>\n",
       "      <td>2</td>\n",
       "      <td>1</td>\n",
       "      <td>1</td>\n",
       "      <td>1</td>\n",
       "      <td>3</td>\n",
       "      <td>1</td>\n",
       "      <td>80</td>\n",
       "      <td>84</td>\n",
       "      <td>72</td>\n",
       "      <td>75</td>\n",
       "      <td>53.333333</td>\n",
       "      <td>0</td>\n",
       "      <td>87</td>\n",
       "    </tr>\n",
       "    <tr>\n",
       "      <th>4</th>\n",
       "      <td>6</td>\n",
       "      <td>3</td>\n",
       "      <td>3</td>\n",
       "      <td>3</td>\n",
       "      <td>1</td>\n",
       "      <td>3</td>\n",
       "      <td>1</td>\n",
       "      <td>80</td>\n",
       "      <td>74</td>\n",
       "      <td>82</td>\n",
       "      <td>66</td>\n",
       "      <td>43.333333</td>\n",
       "      <td>3</td>\n",
       "      <td>86</td>\n",
       "    </tr>\n",
       "  </tbody>\n",
       "</table>\n",
       "</div>"
      ],
      "text/plain": [
       "   Position Height Weight Age  Preferred Foot Avg Ball Avg Pass  Finishing  \\\n",
       "0         6      2      3   2               1        3        1         86   \n",
       "1         5      1      1   2               0        3        1         82   \n",
       "2         5      1      1   3               0        3        2         85   \n",
       "3         6      2      1   1               1        3        1         80   \n",
       "4         6      3      3   3               1        3        1         80   \n",
       "\n",
       "   Speed  Kicking Power  Stamina    Avg Def  Weak Foot  Overall  \n",
       "0     74             79       71  53.666667          0       88  \n",
       "1     84             70       78  50.666667          1       88  \n",
       "2     68             72       66  50.000000          0       87  \n",
       "3     84             72       75  53.333333          0       87  \n",
       "4     74             82       66  43.333333          3       86  "
      ]
     },
     "execution_count": 541,
     "metadata": {},
     "output_type": "execute_result"
    }
   ],
   "source": [
    "df.head()"
   ]
  },
  {
   "cell_type": "code",
   "execution_count": 542,
   "metadata": {},
   "outputs": [
    {
     "data": {
      "text/plain": [
       "40"
      ]
     },
     "execution_count": 542,
     "metadata": {},
     "output_type": "execute_result"
    }
   ],
   "source": [
    "min(df['Finishing'])"
   ]
  },
  {
   "cell_type": "code",
   "execution_count": 543,
   "metadata": {},
   "outputs": [
    {
     "data": {
      "text/plain": [
       "86"
      ]
     },
     "execution_count": 543,
     "metadata": {},
     "output_type": "execute_result"
    }
   ],
   "source": [
    "max(df['Finishing'])"
   ]
  },
  {
   "cell_type": "code",
   "execution_count": 556,
   "metadata": {},
   "outputs": [],
   "source": [
    "df['Finishing'] = pd.cut(df['Finishing'], bins=[39,58,70,100], labels=[0,1,2])"
   ]
  },
  {
   "cell_type": "code",
   "execution_count": 557,
   "metadata": {},
   "outputs": [
    {
     "data": {
      "text/plain": [
       "<AxesSubplot:>"
      ]
     },
     "execution_count": 557,
     "metadata": {},
     "output_type": "execute_result"
    },
    {
     "data": {
      "image/png": "[encoded data removed]",
      "text/plain": [
       "<Figure size 432x288 with 1 Axes>"
      ]
     },
     "metadata": {
      "needs_background": "light"
     },
     "output_type": "display_data"
    }
   ],
   "source": [
    "df['Finishing'].hist()"
   ]
  },
  {
   "cell_type": "code",
   "execution_count": 558,
   "metadata": {},
   "outputs": [
    {
     "data": {
      "text/plain": [
       "48"
      ]
     },
     "execution_count": 558,
     "metadata": {},
     "output_type": "execute_result"
    }
   ],
   "source": [
    "min(df['Speed'])"
   ]
  },
  {
   "cell_type": "code",
   "execution_count": 560,
   "metadata": {},
   "outputs": [
    {
     "data": {
      "text/plain": [
       "86"
      ]
     },
     "execution_count": 560,
     "metadata": {},
     "output_type": "execute_result"
    }
   ],
   "source": [
    "max(df['Speed'])"
   ]
  },
  {
   "cell_type": "code",
   "execution_count": 576,
   "metadata": {},
   "outputs": [],
   "source": [
    "df[\"Speed\"] = pd.cut(df['Speed'], bins=[39,55,65,75,100], labels=[0,1,2,3])"
   ]
  },
  {
   "cell_type": "code",
   "execution_count": 577,
   "metadata": {},
   "outputs": [
    {
     "data": {
      "text/plain": [
       "<AxesSubplot:>"
      ]
     },
     "execution_count": 577,
     "metadata": {},
     "output_type": "execute_result"
    },
    {
     "data": {
      "image/png": "[encoded data removed]",
      "text/plain": [
       "<Figure size 432x288 with 1 Axes>"
      ]
     },
     "metadata": {
      "needs_background": "light"
     },
     "output_type": "display_data"
    }
   ],
   "source": [
    "df[\"Speed\"].hist()"
   ]
  },
  {
   "cell_type": "code",
   "execution_count": 579,
   "metadata": {},
   "outputs": [
    {
     "data": {
      "text/html": [
       "<div>\n",
       "<style scoped>\n",
       "    .dataframe tbody tr th:only-of-type {\n",
       "        vertical-align: middle;\n",
       "    }\n",
       "\n",
       "    .dataframe tbody tr th {\n",
       "        vertical-align: top;\n",
       "    }\n",
       "\n",
       "    .dataframe thead th {\n",
       "        text-align: right;\n",
       "    }\n",
       "</style>\n",
       "<table border=\"1\" class=\"dataframe\">\n",
       "  <thead>\n",
       "    <tr style=\"text-align: right;\">\n",
       "      <th></th>\n",
       "      <th>Position</th>\n",
       "      <th>Height</th>\n",
       "      <th>Weight</th>\n",
       "      <th>Age</th>\n",
       "      <th>Preferred Foot</th>\n",
       "      <th>Avg Ball</th>\n",
       "      <th>Avg Pass</th>\n",
       "      <th>Finishing</th>\n",
       "      <th>Speed</th>\n",
       "      <th>Kicking Power</th>\n",
       "      <th>Stamina</th>\n",
       "      <th>Avg Def</th>\n",
       "      <th>Weak Foot</th>\n",
       "      <th>Overall</th>\n",
       "    </tr>\n",
       "  </thead>\n",
       "  <tbody>\n",
       "    <tr>\n",
       "      <th>0</th>\n",
       "      <td>6</td>\n",
       "      <td>2</td>\n",
       "      <td>3</td>\n",
       "      <td>2</td>\n",
       "      <td>1</td>\n",
       "      <td>3</td>\n",
       "      <td>1</td>\n",
       "      <td>2</td>\n",
       "      <td>2</td>\n",
       "      <td>79</td>\n",
       "      <td>71</td>\n",
       "      <td>53.666667</td>\n",
       "      <td>0</td>\n",
       "      <td>88</td>\n",
       "    </tr>\n",
       "    <tr>\n",
       "      <th>1</th>\n",
       "      <td>5</td>\n",
       "      <td>1</td>\n",
       "      <td>1</td>\n",
       "      <td>2</td>\n",
       "      <td>0</td>\n",
       "      <td>3</td>\n",
       "      <td>1</td>\n",
       "      <td>2</td>\n",
       "      <td>3</td>\n",
       "      <td>70</td>\n",
       "      <td>78</td>\n",
       "      <td>50.666667</td>\n",
       "      <td>1</td>\n",
       "      <td>88</td>\n",
       "    </tr>\n",
       "    <tr>\n",
       "      <th>2</th>\n",
       "      <td>5</td>\n",
       "      <td>1</td>\n",
       "      <td>1</td>\n",
       "      <td>3</td>\n",
       "      <td>0</td>\n",
       "      <td>3</td>\n",
       "      <td>2</td>\n",
       "      <td>2</td>\n",
       "      <td>2</td>\n",
       "      <td>72</td>\n",
       "      <td>66</td>\n",
       "      <td>50.000000</td>\n",
       "      <td>0</td>\n",
       "      <td>87</td>\n",
       "    </tr>\n",
       "    <tr>\n",
       "      <th>3</th>\n",
       "      <td>6</td>\n",
       "      <td>2</td>\n",
       "      <td>1</td>\n",
       "      <td>1</td>\n",
       "      <td>1</td>\n",
       "      <td>3</td>\n",
       "      <td>1</td>\n",
       "      <td>2</td>\n",
       "      <td>3</td>\n",
       "      <td>72</td>\n",
       "      <td>75</td>\n",
       "      <td>53.333333</td>\n",
       "      <td>0</td>\n",
       "      <td>87</td>\n",
       "    </tr>\n",
       "    <tr>\n",
       "      <th>4</th>\n",
       "      <td>6</td>\n",
       "      <td>3</td>\n",
       "      <td>3</td>\n",
       "      <td>3</td>\n",
       "      <td>1</td>\n",
       "      <td>3</td>\n",
       "      <td>1</td>\n",
       "      <td>2</td>\n",
       "      <td>2</td>\n",
       "      <td>82</td>\n",
       "      <td>66</td>\n",
       "      <td>43.333333</td>\n",
       "      <td>3</td>\n",
       "      <td>86</td>\n",
       "    </tr>\n",
       "  </tbody>\n",
       "</table>\n",
       "</div>"
      ],
      "text/plain": [
       "   Position Height Weight Age  Preferred Foot Avg Ball Avg Pass Finishing  \\\n",
       "0         6      2      3   2               1        3        1         2   \n",
       "1         5      1      1   2               0        3        1         2   \n",
       "2         5      1      1   3               0        3        2         2   \n",
       "3         6      2      1   1               1        3        1         2   \n",
       "4         6      3      3   3               1        3        1         2   \n",
       "\n",
       "  Speed  Kicking Power  Stamina    Avg Def  Weak Foot  Overall  \n",
       "0     2             79       71  53.666667          0       88  \n",
       "1     3             70       78  50.666667          1       88  \n",
       "2     2             72       66  50.000000          0       87  \n",
       "3     3             72       75  53.333333          0       87  \n",
       "4     2             82       66  43.333333          3       86  "
      ]
     },
     "execution_count": 579,
     "metadata": {},
     "output_type": "execute_result"
    }
   ],
   "source": [
    "df.head()"
   ]
  },
  {
   "cell_type": "code",
   "execution_count": 580,
   "metadata": {},
   "outputs": [
    {
     "data": {
      "text/plain": [
       "<AxesSubplot:>"
      ]
     },
     "execution_count": 580,
     "metadata": {},
     "output_type": "execute_result"
    },
    {
     "data": {
      "image/png": "[encoded data removed]",
      "text/plain": [
       "<Figure size 432x288 with 1 Axes>"
      ]
     },
     "metadata": {
      "needs_background": "light"
     },
     "output_type": "display_data"
    }
   ],
   "source": [
    "df['Kicking Power'].hist()"
   ]
  },
  {
   "cell_type": "code",
   "execution_count": 581,
   "metadata": {},
   "outputs": [
    {
     "data": {
      "text/plain": [
       "47"
      ]
     },
     "execution_count": 581,
     "metadata": {},
     "output_type": "execute_result"
    }
   ],
   "source": [
    "min(df['Kicking Power'])"
   ]
  },
  {
   "cell_type": "code",
   "execution_count": 582,
   "metadata": {},
   "outputs": [
    {
     "data": {
      "text/plain": [
       "86"
      ]
     },
     "execution_count": 582,
     "metadata": {},
     "output_type": "execute_result"
    }
   ],
   "source": [
    "max(df['Kicking Power'])"
   ]
  },
  {
   "cell_type": "code",
   "execution_count": 588,
   "metadata": {},
   "outputs": [],
   "source": [
    "df['Kicking Power'] = pd.cut(df['Kicking Power'], bins=[45,60,70,100], labels=[0,1,2])"
   ]
  },
  {
   "cell_type": "code",
   "execution_count": 589,
   "metadata": {},
   "outputs": [
    {
     "data": {
      "text/plain": [
       "<AxesSubplot:>"
      ]
     },
     "execution_count": 589,
     "metadata": {},
     "output_type": "execute_result"
    },
    {
     "data": {
      "image/png": "[encoded data removed]",
      "text/plain": [
       "<Figure size 432x288 with 1 Axes>"
      ]
     },
     "metadata": {
      "needs_background": "light"
     },
     "output_type": "display_data"
    }
   ],
   "source": [
    "df['Kicking Power'].hist()"
   ]
  },
  {
   "cell_type": "code",
   "execution_count": 590,
   "metadata": {},
   "outputs": [
    {
     "data": {
      "text/html": [
       "<div>\n",
       "<style scoped>\n",
       "    .dataframe tbody tr th:only-of-type {\n",
       "        vertical-align: middle;\n",
       "    }\n",
       "\n",
       "    .dataframe tbody tr th {\n",
       "        vertical-align: top;\n",
       "    }\n",
       "\n",
       "    .dataframe thead th {\n",
       "        text-align: right;\n",
       "    }\n",
       "</style>\n",
       "<table border=\"1\" class=\"dataframe\">\n",
       "  <thead>\n",
       "    <tr style=\"text-align: right;\">\n",
       "      <th></th>\n",
       "      <th>Position</th>\n",
       "      <th>Height</th>\n",
       "      <th>Weight</th>\n",
       "      <th>Age</th>\n",
       "      <th>Preferred Foot</th>\n",
       "      <th>Avg Ball</th>\n",
       "      <th>Avg Pass</th>\n",
       "      <th>Finishing</th>\n",
       "      <th>Speed</th>\n",
       "      <th>Kicking Power</th>\n",
       "      <th>Stamina</th>\n",
       "      <th>Avg Def</th>\n",
       "      <th>Weak Foot</th>\n",
       "      <th>Overall</th>\n",
       "    </tr>\n",
       "  </thead>\n",
       "  <tbody>\n",
       "    <tr>\n",
       "      <th>0</th>\n",
       "      <td>6</td>\n",
       "      <td>2</td>\n",
       "      <td>3</td>\n",
       "      <td>2</td>\n",
       "      <td>1</td>\n",
       "      <td>3</td>\n",
       "      <td>1</td>\n",
       "      <td>2</td>\n",
       "      <td>2</td>\n",
       "      <td>2</td>\n",
       "      <td>71</td>\n",
       "      <td>53.666667</td>\n",
       "      <td>0</td>\n",
       "      <td>88</td>\n",
       "    </tr>\n",
       "    <tr>\n",
       "      <th>1</th>\n",
       "      <td>5</td>\n",
       "      <td>1</td>\n",
       "      <td>1</td>\n",
       "      <td>2</td>\n",
       "      <td>0</td>\n",
       "      <td>3</td>\n",
       "      <td>1</td>\n",
       "      <td>2</td>\n",
       "      <td>3</td>\n",
       "      <td>1</td>\n",
       "      <td>78</td>\n",
       "      <td>50.666667</td>\n",
       "      <td>1</td>\n",
       "      <td>88</td>\n",
       "    </tr>\n",
       "    <tr>\n",
       "      <th>2</th>\n",
       "      <td>5</td>\n",
       "      <td>1</td>\n",
       "      <td>1</td>\n",
       "      <td>3</td>\n",
       "      <td>0</td>\n",
       "      <td>3</td>\n",
       "      <td>2</td>\n",
       "      <td>2</td>\n",
       "      <td>2</td>\n",
       "      <td>2</td>\n",
       "      <td>66</td>\n",
       "      <td>50.000000</td>\n",
       "      <td>0</td>\n",
       "      <td>87</td>\n",
       "    </tr>\n",
       "    <tr>\n",
       "      <th>3</th>\n",
       "      <td>6</td>\n",
       "      <td>2</td>\n",
       "      <td>1</td>\n",
       "      <td>1</td>\n",
       "      <td>1</td>\n",
       "      <td>3</td>\n",
       "      <td>1</td>\n",
       "      <td>2</td>\n",
       "      <td>3</td>\n",
       "      <td>2</td>\n",
       "      <td>75</td>\n",
       "      <td>53.333333</td>\n",
       "      <td>0</td>\n",
       "      <td>87</td>\n",
       "    </tr>\n",
       "    <tr>\n",
       "      <th>4</th>\n",
       "      <td>6</td>\n",
       "      <td>3</td>\n",
       "      <td>3</td>\n",
       "      <td>3</td>\n",
       "      <td>1</td>\n",
       "      <td>3</td>\n",
       "      <td>1</td>\n",
       "      <td>2</td>\n",
       "      <td>2</td>\n",
       "      <td>2</td>\n",
       "      <td>66</td>\n",
       "      <td>43.333333</td>\n",
       "      <td>3</td>\n",
       "      <td>86</td>\n",
       "    </tr>\n",
       "  </tbody>\n",
       "</table>\n",
       "</div>"
      ],
      "text/plain": [
       "   Position Height Weight Age  Preferred Foot Avg Ball Avg Pass Finishing  \\\n",
       "0         6      2      3   2               1        3        1         2   \n",
       "1         5      1      1   2               0        3        1         2   \n",
       "2         5      1      1   3               0        3        2         2   \n",
       "3         6      2      1   1               1        3        1         2   \n",
       "4         6      3      3   3               1        3        1         2   \n",
       "\n",
       "  Speed Kicking Power  Stamina    Avg Def  Weak Foot  Overall  \n",
       "0     2             2       71  53.666667          0       88  \n",
       "1     3             1       78  50.666667          1       88  \n",
       "2     2             2       66  50.000000          0       87  \n",
       "3     3             2       75  53.333333          0       87  \n",
       "4     2             2       66  43.333333          3       86  "
      ]
     },
     "execution_count": 590,
     "metadata": {},
     "output_type": "execute_result"
    }
   ],
   "source": [
    "df.head()"
   ]
  },
  {
   "cell_type": "code",
   "execution_count": 591,
   "metadata": {},
   "outputs": [
    {
     "data": {
      "text/plain": [
       "<AxesSubplot:>"
      ]
     },
     "execution_count": 591,
     "metadata": {},
     "output_type": "execute_result"
    },
    {
     "data": {
      "image/png": "[encoded data removed]",
      "text/plain": [
       "<Figure size 432x288 with 1 Axes>"
      ]
     },
     "metadata": {
      "needs_background": "light"
     },
     "output_type": "display_data"
    }
   ],
   "source": [
    "df['Stamina'].hist()"
   ]
  },
  {
   "cell_type": "code",
   "execution_count": 596,
   "metadata": {},
   "outputs": [],
   "source": [
    "df['Stamina'] = pd.cut(df['Stamina'], bins=[45,63,75,100], labels=[0,1,2])"
   ]
  },
  {
   "cell_type": "code",
   "execution_count": 597,
   "metadata": {},
   "outputs": [
    {
     "data": {
      "text/plain": [
       "<AxesSubplot:>"
      ]
     },
     "execution_count": 597,
     "metadata": {},
     "output_type": "execute_result"
    },
    {
     "data": {
      "image/png": "[encoded data removed]",
      "text/plain": [
       "<Figure size 432x288 with 1 Axes>"
      ]
     },
     "metadata": {
      "needs_background": "light"
     },
     "output_type": "display_data"
    }
   ],
   "source": [
    "df['Stamina'].hist()"
   ]
  },
  {
   "cell_type": "code",
   "execution_count": 598,
   "metadata": {},
   "outputs": [
    {
     "data": {
      "text/html": [
       "<div>\n",
       "<style scoped>\n",
       "    .dataframe tbody tr th:only-of-type {\n",
       "        vertical-align: middle;\n",
       "    }\n",
       "\n",
       "    .dataframe tbody tr th {\n",
       "        vertical-align: top;\n",
       "    }\n",
       "\n",
       "    .dataframe thead th {\n",
       "        text-align: right;\n",
       "    }\n",
       "</style>\n",
       "<table border=\"1\" class=\"dataframe\">\n",
       "  <thead>\n",
       "    <tr style=\"text-align: right;\">\n",
       "      <th></th>\n",
       "      <th>Position</th>\n",
       "      <th>Height</th>\n",
       "      <th>Weight</th>\n",
       "      <th>Age</th>\n",
       "      <th>Preferred Foot</th>\n",
       "      <th>Avg Ball</th>\n",
       "      <th>Avg Pass</th>\n",
       "      <th>Finishing</th>\n",
       "      <th>Speed</th>\n",
       "      <th>Kicking Power</th>\n",
       "      <th>Stamina</th>\n",
       "      <th>Avg Def</th>\n",
       "      <th>Weak Foot</th>\n",
       "      <th>Overall</th>\n",
       "    </tr>\n",
       "  </thead>\n",
       "  <tbody>\n",
       "    <tr>\n",
       "      <th>0</th>\n",
       "      <td>6</td>\n",
       "      <td>2</td>\n",
       "      <td>3</td>\n",
       "      <td>2</td>\n",
       "      <td>1</td>\n",
       "      <td>3</td>\n",
       "      <td>1</td>\n",
       "      <td>2</td>\n",
       "      <td>2</td>\n",
       "      <td>2</td>\n",
       "      <td>1</td>\n",
       "      <td>53.666667</td>\n",
       "      <td>0</td>\n",
       "      <td>88</td>\n",
       "    </tr>\n",
       "    <tr>\n",
       "      <th>1</th>\n",
       "      <td>5</td>\n",
       "      <td>1</td>\n",
       "      <td>1</td>\n",
       "      <td>2</td>\n",
       "      <td>0</td>\n",
       "      <td>3</td>\n",
       "      <td>1</td>\n",
       "      <td>2</td>\n",
       "      <td>3</td>\n",
       "      <td>1</td>\n",
       "      <td>2</td>\n",
       "      <td>50.666667</td>\n",
       "      <td>1</td>\n",
       "      <td>88</td>\n",
       "    </tr>\n",
       "    <tr>\n",
       "      <th>2</th>\n",
       "      <td>5</td>\n",
       "      <td>1</td>\n",
       "      <td>1</td>\n",
       "      <td>3</td>\n",
       "      <td>0</td>\n",
       "      <td>3</td>\n",
       "      <td>2</td>\n",
       "      <td>2</td>\n",
       "      <td>2</td>\n",
       "      <td>2</td>\n",
       "      <td>1</td>\n",
       "      <td>50.000000</td>\n",
       "      <td>0</td>\n",
       "      <td>87</td>\n",
       "    </tr>\n",
       "    <tr>\n",
       "      <th>3</th>\n",
       "      <td>6</td>\n",
       "      <td>2</td>\n",
       "      <td>1</td>\n",
       "      <td>1</td>\n",
       "      <td>1</td>\n",
       "      <td>3</td>\n",
       "      <td>1</td>\n",
       "      <td>2</td>\n",
       "      <td>3</td>\n",
       "      <td>2</td>\n",
       "      <td>1</td>\n",
       "      <td>53.333333</td>\n",
       "      <td>0</td>\n",
       "      <td>87</td>\n",
       "    </tr>\n",
       "    <tr>\n",
       "      <th>4</th>\n",
       "      <td>6</td>\n",
       "      <td>3</td>\n",
       "      <td>3</td>\n",
       "      <td>3</td>\n",
       "      <td>1</td>\n",
       "      <td>3</td>\n",
       "      <td>1</td>\n",
       "      <td>2</td>\n",
       "      <td>2</td>\n",
       "      <td>2</td>\n",
       "      <td>1</td>\n",
       "      <td>43.333333</td>\n",
       "      <td>3</td>\n",
       "      <td>86</td>\n",
       "    </tr>\n",
       "  </tbody>\n",
       "</table>\n",
       "</div>"
      ],
      "text/plain": [
       "   Position Height Weight Age  Preferred Foot Avg Ball Avg Pass Finishing  \\\n",
       "0         6      2      3   2               1        3        1         2   \n",
       "1         5      1      1   2               0        3        1         2   \n",
       "2         5      1      1   3               0        3        2         2   \n",
       "3         6      2      1   1               1        3        1         2   \n",
       "4         6      3      3   3               1        3        1         2   \n",
       "\n",
       "  Speed Kicking Power Stamina    Avg Def  Weak Foot  Overall  \n",
       "0     2             2       1  53.666667          0       88  \n",
       "1     3             1       2  50.666667          1       88  \n",
       "2     2             2       1  50.000000          0       87  \n",
       "3     3             2       1  53.333333          0       87  \n",
       "4     2             2       1  43.333333          3       86  "
      ]
     },
     "execution_count": 598,
     "metadata": {},
     "output_type": "execute_result"
    }
   ],
   "source": [
    "df.head()"
   ]
  },
  {
   "cell_type": "code",
   "execution_count": 599,
   "metadata": {},
   "outputs": [
    {
     "data": {
      "text/plain": [
       "<AxesSubplot:>"
      ]
     },
     "execution_count": 599,
     "metadata": {},
     "output_type": "execute_result"
    },
    {
     "data": {
      "image/png": "[encoded data removed]",
      "text/plain": [
       "<Figure size 432x288 with 1 Axes>"
      ]
     },
     "metadata": {
      "needs_background": "light"
     },
     "output_type": "display_data"
    }
   ],
   "source": [
    "df['Avg Def'].hist()"
   ]
  },
  {
   "cell_type": "code",
   "execution_count": 600,
   "metadata": {},
   "outputs": [
    {
     "data": {
      "text/plain": [
       "40.0"
      ]
     },
     "execution_count": 600,
     "metadata": {},
     "output_type": "execute_result"
    }
   ],
   "source": [
    "min(df['Avg Def'])"
   ]
  },
  {
   "cell_type": "code",
   "execution_count": 601,
   "metadata": {},
   "outputs": [
    {
     "data": {
      "text/plain": [
       "84.0"
      ]
     },
     "execution_count": 601,
     "metadata": {},
     "output_type": "execute_result"
    }
   ],
   "source": [
    "max(df['Avg Def'])"
   ]
  },
  {
   "cell_type": "code",
   "execution_count": null,
   "metadata": {},
   "outputs": [],
   "source": [
    "x = pd.cut(df['Avg Def'], bins=[39,63,75,100], labels=[0,1,2])"
   ]
  },
  {
   "cell_type": "code",
   "execution_count": null,
   "metadata": {},
   "outputs": [],
   "source": []
  },
  {
   "cell_type": "code",
   "execution_count": null,
   "metadata": {},
   "outputs": [],
   "source": []
  },
  {
   "cell_type": "code",
   "execution_count": null,
   "metadata": {},
   "outputs": [],
   "source": []
  },
  {
   "cell_type": "code",
   "execution_count": null,
   "metadata": {},
   "outputs": [],
   "source": []
  }
 ],
 "metadata": {
  "interpreter": {
   "hash": "608f70d04bb385af5d2b05c1c7645e6955dc64e0b13dea7490178ca2fd94fb2a"
  },
  "kernelspec": {
   "display_name": "Python 3.10.2 64-bit",
   "language": "python",
   "name": "python3"
  },
  "language_info": {
   "codemirror_mode": {
    "name": "ipython",
    "version": 3
   },
   "file_extension": ".py",
   "mimetype": "text/x-python",
   "name": "python",
   "nbconvert_exporter": "python",
   "pygments_lexer": "ipython3",
   "version": "3.10.2"
  }
 },
 "nbformat": 4,
 "nbformat_minor": 0
}